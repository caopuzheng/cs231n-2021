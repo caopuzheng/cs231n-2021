{
    "cells": [
        {
            "cell_type": "markdown",
            "metadata": {
                "colab_type": "text",
                "id": "dzNng6vCL9eP"
            },
            "source": [
                "## CS231n Python Tutorial With Jupyter Notebook"
            ]
        },
        {
            "cell_type": "markdown",
            "metadata": {
                "colab_type": "text",
                "id": "0vJLt3JRL9eR"
            },
            "source": [
                "This tutorial was originally written by [Justin Johnson](https://web.eecs.umich.edu/~justincj/) for cs231n and adapted as a Jupyter notebook for cs228 by [Volodymyr Kuleshov](http://web.stanford.edu/~kuleshov/) and [Isaac Caswell](https://symsys.stanford.edu/viewing/symsysaffiliate/21335).\n",
                "\n",
                "This current version has been adapted as a Jupyter notebook with Python3 support by Kevin Zakka for the Spring 2020 edition of [cs231n](http://cs231n.stanford.edu/)."
            ]
        },
        {
            "cell_type": "markdown",
            "metadata": {},
            "source": [
                "## What is a Jupyter Notebook?"
            ]
        },
        {
            "cell_type": "markdown",
            "metadata": {},
            "source": [
                "A Jupyter notebook is made up of a number of cells. Each cell can contain Python code. There are two main types of cells: `Code` cells and `Markdown` cells. This particular cell is a `Markdown` cell. You can execute a particular cell by double clicking on it (the highlight color will switch from blue to green) and pressing `Shift-Enter`. When you do so, if the cell is a `Code` cell, the code in the cell will run, and the output of the cell will be displayed beneath the cell, and if the cell is a `Markdown` cell, the markdown text will get rendered beneath the cell.\n",
                "\n",
                "Go ahead and try executing this cell."
            ]
        },
        {
            "cell_type": "markdown",
            "metadata": {},
            "source": [
                "The cell below is a `Code` cell. Go ahead and click it, then execute it."
            ]
        },
        {
            "cell_type": "code",
            "execution_count": 50,
            "metadata": {},
            "outputs": [
                {
                    "name": "stdout",
                    "output_type": "stream",
                    "text": [
                        "1\n"
                    ]
                }
            ],
            "source": [
                "x = 1\n",
                "print(x)"
            ]
        },
        {
            "cell_type": "markdown",
            "metadata": {},
            "source": [
                "Global variables are shared between cells. Try executing the cell below:"
            ]
        },
        {
            "cell_type": "code",
            "execution_count": 51,
            "metadata": {},
            "outputs": [
                {
                    "name": "stdout",
                    "output_type": "stream",
                    "text": [
                        "2\n"
                    ]
                }
            ],
            "source": [
                "y = 2 * x\n",
                "print(y)"
            ]
        },
        {
            "cell_type": "markdown",
            "metadata": {},
            "source": [
                "### Keyboard Shortcuts\n",
                "\n",
                "There are a few keyboard shortcuts you should be aware of to make your notebook experience more pleasant. To escape editing of a cell, press `esc`. Escaping a `Markdown` cell won't render it, so make sure to execute it if you wish to render the markdown. Notice how the highlight color switches back to blue when you have escaped a cell.\n",
                "\n",
                "You can navigate between cells by pressing your arrow keys. Executing a cell automatically shifts the cell cursor down 1 cell if one exists, or creates a new cell below the current one if none exist.\n",
                "\n",
                "* To place a cell below the current one, press `b`.\n",
                "* To place a cell above the current one, press `a`.\n",
                "* To delete a cell, press `dd`.\n",
                "* To convert a cell to `Markdown` press `m`. Note you have to be in `esc` mode.\n",
                "* To convert it back to `Code` press `y`. Note you have to be in `esc` mode.\n",
                "\n",
                "Get familiar with these keyboard shortcuts, they really help!"
            ]
        },
        {
            "cell_type": "markdown",
            "metadata": {},
            "source": [
                "You can restart a notebook and clear all cells by clicking `Kernel -> Restart & Clear Output`. If you don't want to clear cell outputs, just hit `Kernel -> Restart`.\n",
                "\n",
                "By convention, Jupyter notebooks are expected to be run from top to bottom. Failing to execute some cells or executing cells out of order can result in errors. After restarting the notebook, try running the `y = 2 * x` cell 2 cells above and observe what happens."
            ]
        },
        {
            "cell_type": "markdown",
            "metadata": {},
            "source": [
                "After you have modified a Jupyter notebook for one of the assignments by modifying or executing some of its cells, remember to save your changes! You can save with the `Command/Control + s` shortcut or by clicking `File -> Save and Checkpoint`."
            ]
        },
        {
            "cell_type": "markdown",
            "metadata": {},
            "source": [
                "This has only been a brief introduction to Jupyter notebooks, but it should be enough to get you up and running on the assignments for this course."
            ]
        },
        {
            "cell_type": "markdown",
            "metadata": {
                "colab_type": "text",
                "id": "qVrTo-LhL9eS"
            },
            "source": [
                "## Python Tutorial"
            ]
        },
        {
            "cell_type": "markdown",
            "metadata": {
                "colab_type": "text",
                "id": "9t1gKp9PL9eV"
            },
            "source": [
                "Python is a great general-purpose programming language on its own, but with the help of a few popular libraries (numpy, scipy, matplotlib) it becomes a powerful environment for scientific computing.\n",
                "\n",
                "We expect that many of you will have some experience with Python and numpy; for the rest of you, this section will serve as a quick crash course both on the Python programming language and on the use of Python for scientific computing.\n",
                "\n",
                "Some of you may have previous knowledge in Matlab, in which case we also recommend the numpy for Matlab users page (https://docs.scipy.org/doc/numpy-dev/user/numpy-for-matlab-users.html)."
            ]
        },
        {
            "cell_type": "markdown",
            "metadata": {
                "colab_type": "text",
                "id": "U1PvreR9L9eW"
            },
            "source": [
                "In this tutorial, we will cover:\n",
                "\n",
                "* Basic Python: Basic data types (Containers, Lists, Dictionaries, Sets, Tuples), Functions, Classes\n",
                "* Numpy: Arrays, Array indexing, Datatypes, Array math, Broadcasting\n",
                "* Matplotlib: Plotting, Subplots, Images\n",
                "* IPython: Creating notebooks, Typical workflows"
            ]
        },
        {
            "cell_type": "markdown",
            "metadata": {
                "colab_type": "text",
                "id": "nxvEkGXPM3Xh"
            },
            "source": [
                "## A Brief Note on Python Versions\n",
                "\n",
                "As of Janurary 1, 2020, Python has [officially dropped support](https://www.python.org/doc/sunset-python-2/) for `python2`. **We'll be using Python 3.7 for this iteration of the course.**\n",
                "\n",
                "You should have activated your `cs231n` virtual environment created in the [Setup Instructions](https://cs231n.github.io/setup-instructions/) before calling `jupyter notebook`. If that is\n",
                "the case, the cell below should print out a major version of 3.7."
            ]
        },
        {
            "cell_type": "code",
            "execution_count": 52,
            "metadata": {
                "colab": {
                    "base_uri": "https://localhost:8080/",
                    "height": 34
                },
                "colab_type": "code",
                "id": "1L4Am0QATgOc",
                "outputId": "bb5ee3ac-8683-44ab-e599-a2077510f327"
            },
            "outputs": [
                {
                    "name": "stdout",
                    "output_type": "stream",
                    "text": [
                        "Python 3.9.13\n"
                    ]
                }
            ],
            "source": [
                "!python --version"
            ]
        },
        {
            "cell_type": "markdown",
            "metadata": {
                "colab_type": "text",
                "id": "JAFKYgrpL9eY"
            },
            "source": [
                "## Basics of Python"
            ]
        },
        {
            "cell_type": "markdown",
            "metadata": {
                "colab_type": "text",
                "id": "RbFS6tdgL9ea"
            },
            "source": [
                "Python is a high-level, dynamically typed multiparadigm programming language. Python code is often said to be almost like pseudocode, since it allows you to express very powerful ideas in very few lines of code while being very readable. As an example, here is an implementation of the classic quicksort algorithm in Python:"
            ]
        },
        {
            "cell_type": "code",
            "execution_count": 53,
            "metadata": {
                "colab": {
                    "base_uri": "https://localhost:8080/",
                    "height": 34
                },
                "colab_type": "code",
                "id": "cYb0pjh1L9eb",
                "outputId": "9a8e37de-1dc1-4092-faee-06ad4ff2d73a"
            },
            "outputs": [
                {
                    "name": "stdout",
                    "output_type": "stream",
                    "text": [
                        "[1, 1, 2, 3, 6, 8, 10]\n"
                    ]
                }
            ],
            "source": [
                "def quicksort(arr):\n",
                "    if len(arr) <= 1:\n",
                "        return arr\n",
                "    pivot = arr[len(arr) // 2]\n",
                "    left = [x for x in arr if x < pivot]\n",
                "    middle = [x for x in arr if x == pivot]\n",
                "    right = [x for x in arr if x > pivot]\n",
                "    return quicksort(left) + middle + quicksort(right)\n",
                "\n",
                "\n",
                "print(quicksort([3, 6, 8, 10, 1, 2, 1]))\n"
            ]
        },
        {
            "cell_type": "markdown",
            "metadata": {
                "colab_type": "text",
                "id": "NwS_hu4xL9eo"
            },
            "source": [
                "### Basic data types"
            ]
        },
        {
            "cell_type": "markdown",
            "metadata": {
                "colab_type": "text",
                "id": "DL5sMSZ9L9eq"
            },
            "source": [
                "#### Numbers"
            ]
        },
        {
            "cell_type": "markdown",
            "metadata": {
                "colab_type": "text",
                "id": "MGS0XEWoL9er"
            },
            "source": [
                "Integers and floats work as you would expect from other languages:"
            ]
        },
        {
            "cell_type": "code",
            "execution_count": 54,
            "metadata": {
                "colab": {
                    "base_uri": "https://localhost:8080/",
                    "height": 52
                },
                "colab_type": "code",
                "id": "KheDr_zDL9es",
                "outputId": "1db9f4d3-2e0d-4008-f78a-161ed52c4359"
            },
            "outputs": [
                {
                    "name": "stdout",
                    "output_type": "stream",
                    "text": [
                        "3 <class 'int'>\n"
                    ]
                }
            ],
            "source": [
                "x = 3\n",
                "print(x, type(x))"
            ]
        },
        {
            "cell_type": "code",
            "execution_count": 55,
            "metadata": {
                "colab": {
                    "base_uri": "https://localhost:8080/",
                    "height": 86
                },
                "colab_type": "code",
                "id": "sk_8DFcuL9ey",
                "outputId": "dd60a271-3457-465d-e16a-41acf12a56ab"
            },
            "outputs": [
                {
                    "name": "stdout",
                    "output_type": "stream",
                    "text": [
                        "4\n",
                        "2\n",
                        "6\n",
                        "9\n"
                    ]
                }
            ],
            "source": [
                "print(x + 1)  # Addition\n",
                "print(x - 1)  # Subtraction\n",
                "print(x * 2)  # Multiplication\n",
                "print(x**2)  # Exponentiation\n"
            ]
        },
        {
            "cell_type": "code",
            "execution_count": 56,
            "metadata": {
                "colab": {
                    "base_uri": "https://localhost:8080/",
                    "height": 52
                },
                "colab_type": "code",
                "id": "U4Jl8K0tL9e4",
                "outputId": "07e3db14-3781-42b7-8ba6-042b3f9f72ba"
            },
            "outputs": [
                {
                    "name": "stdout",
                    "output_type": "stream",
                    "text": [
                        "4\n",
                        "8\n"
                    ]
                }
            ],
            "source": [
                "x += 1\n",
                "print(x)\n",
                "x *= 2\n",
                "print(x)"
            ]
        },
        {
            "cell_type": "code",
            "execution_count": 57,
            "metadata": {
                "colab": {
                    "base_uri": "https://localhost:8080/",
                    "height": 52
                },
                "colab_type": "code",
                "id": "w-nZ0Sg_L9e9",
                "outputId": "3aa579f8-9540-46ef-935e-be887781ecb4"
            },
            "outputs": [
                {
                    "name": "stdout",
                    "output_type": "stream",
                    "text": [
                        "<class 'float'>\n",
                        "2.5 3.5 5.0 6.25\n"
                    ]
                }
            ],
            "source": [
                "y = 2.5\n",
                "print(type(y))\n",
                "print(y, y + 1, y * 2, y**2)\n"
            ]
        },
        {
            "cell_type": "markdown",
            "metadata": {
                "colab_type": "text",
                "id": "r2A9ApyaL9fB"
            },
            "source": [
                "Note that unlike many languages, Python does not have unary increment (x++) or decrement (x--) operators.\n",
                "\n",
                "Python also has built-in types for long integers and complex numbers; you can find all of the details in the [documentation](https://docs.python.org/3.7/library/stdtypes.html#numeric-types-int-float-long-complex)."
            ]
        },
        {
            "cell_type": "markdown",
            "metadata": {
                "colab_type": "text",
                "id": "EqRS7qhBL9fC"
            },
            "source": [
                "#### Booleans"
            ]
        },
        {
            "cell_type": "markdown",
            "metadata": {
                "colab_type": "text",
                "id": "Nv_LIVOJL9fD"
            },
            "source": [
                "Python implements all of the usual operators for Boolean logic, but uses English words rather than symbols (`&&`, `||`, etc.):"
            ]
        },
        {
            "cell_type": "code",
            "execution_count": 58,
            "metadata": {
                "colab": {
                    "base_uri": "https://localhost:8080/",
                    "height": 34
                },
                "colab_type": "code",
                "id": "RvoImwgGL9fE",
                "outputId": "1517077b-edca-463f-857b-6a8c386cd387"
            },
            "outputs": [
                {
                    "name": "stdout",
                    "output_type": "stream",
                    "text": [
                        "<class 'bool'>\n"
                    ]
                }
            ],
            "source": [
                "t, f = True, False\n",
                "print(type(t))"
            ]
        },
        {
            "cell_type": "markdown",
            "metadata": {
                "colab_type": "text",
                "id": "YQgmQfOgL9fI"
            },
            "source": [
                "Now we let's look at the operations:"
            ]
        },
        {
            "cell_type": "code",
            "execution_count": 59,
            "metadata": {
                "colab": {
                    "base_uri": "https://localhost:8080/",
                    "height": 86
                },
                "colab_type": "code",
                "id": "6zYm7WzCL9fK",
                "outputId": "f3cebe76-5af4-473a-8127-88a1fd60560f"
            },
            "outputs": [
                {
                    "name": "stdout",
                    "output_type": "stream",
                    "text": [
                        "False\n",
                        "True\n",
                        "False\n",
                        "True\n"
                    ]
                }
            ],
            "source": [
                "print(t and f)  # Logical AND;\n",
                "print(t or f)  # Logical OR;\n",
                "print(not t)  # Logical NOT;\n",
                "print(t != f)  # Logical XOR;"
            ]
        },
        {
            "cell_type": "markdown",
            "metadata": {
                "colab_type": "text",
                "id": "UQnQWFEyL9fP"
            },
            "source": [
                "#### Strings"
            ]
        },
        {
            "cell_type": "code",
            "execution_count": 60,
            "metadata": {
                "colab": {
                    "base_uri": "https://localhost:8080/",
                    "height": 34
                },
                "colab_type": "code",
                "id": "AijEDtPFL9fP",
                "outputId": "2a6b0cd7-58f1-43cf-e6b7-bf940d532549"
            },
            "outputs": [
                {
                    "name": "stdout",
                    "output_type": "stream",
                    "text": [
                        "hello 5\n"
                    ]
                }
            ],
            "source": [
                "hello = 'hello'  # String literals can use single quotes\n",
                "world = \"world\"  # or double quotes; it does not matter\n",
                "print(hello, len(hello))"
            ]
        },
        {
            "cell_type": "code",
            "execution_count": 61,
            "metadata": {
                "colab": {
                    "base_uri": "https://localhost:8080/",
                    "height": 34
                },
                "colab_type": "code",
                "id": "saDeaA7hL9fT",
                "outputId": "2837d0ab-9ae5-4053-d087-bfa0af81c344"
            },
            "outputs": [
                {
                    "name": "stdout",
                    "output_type": "stream",
                    "text": [
                        "hello world\n"
                    ]
                }
            ],
            "source": [
                "hw = hello + ' ' + world  # String concatenation\n",
                "print(hw)"
            ]
        },
        {
            "cell_type": "code",
            "execution_count": 62,
            "metadata": {
                "colab": {
                    "base_uri": "https://localhost:8080/",
                    "height": 34
                },
                "colab_type": "code",
                "id": "Nji1_UjYL9fY",
                "outputId": "0149b0ca-425a-4a34-8e24-8dff7080922e"
            },
            "outputs": [
                {
                    "name": "stdout",
                    "output_type": "stream",
                    "text": [
                        "hello world 12\n"
                    ]
                }
            ],
            "source": [
                "hw12 = '{} {} {}'.format(hello, world, 12)  # string formatting\n",
                "print(hw12)"
            ]
        },
        {
            "cell_type": "markdown",
            "metadata": {
                "colab_type": "text",
                "id": "bUpl35bIL9fc"
            },
            "source": [
                "String objects have a bunch of useful methods; for example:"
            ]
        },
        {
            "cell_type": "code",
            "execution_count": 63,
            "metadata": {
                "colab": {
                    "base_uri": "https://localhost:8080/",
                    "height": 121
                },
                "colab_type": "code",
                "id": "VOxGatlsL9fd",
                "outputId": "ab009df3-8643-4d3e-f85f-a813b70db9cb"
            },
            "outputs": [
                {
                    "name": "stdout",
                    "output_type": "stream",
                    "text": [
                        "Hello\n",
                        "HELLO\n",
                        "  hello\n",
                        " hello \n",
                        "he(ell)(ell)o\n",
                        "world\n"
                    ]
                }
            ],
            "source": [
                "s = \"hello\"\n",
                "print(s.capitalize())  # Capitalize a string\n",
                "print(s.upper())  # Convert a string to uppercase; prints \"HELLO\"\n",
                "print(s.rjust(7))  # Right-justify a string, padding with spaces\n",
                "print(s.center(7))  # Center a string, padding with spaces\n",
                "print(s.replace('l', '(ell)'))  # Replace all instances of one substring with another\n",
                "print('  world '.strip())  # Strip leading and trailing whitespace"
            ]
        },
        {
            "cell_type": "markdown",
            "metadata": {
                "colab_type": "text",
                "id": "06cayXLtL9fi"
            },
            "source": [
                "You can find a list of all string methods in the [documentation](https://docs.python.org/3.7/library/stdtypes.html#string-methods)."
            ]
        },
        {
            "cell_type": "markdown",
            "metadata": {
                "colab_type": "text",
                "id": "p-6hClFjL9fk"
            },
            "source": [
                "### Containers"
            ]
        },
        {
            "cell_type": "markdown",
            "metadata": {
                "colab_type": "text",
                "id": "FD9H18eQL9fk"
            },
            "source": [
                "Python includes several built-in container types: lists, dictionaries, sets, and tuples."
            ]
        },
        {
            "cell_type": "markdown",
            "metadata": {
                "colab_type": "text",
                "id": "UsIWOe0LL9fn"
            },
            "source": [
                "#### Lists"
            ]
        },
        {
            "cell_type": "markdown",
            "metadata": {
                "colab_type": "text",
                "id": "wzxX7rgWL9fn"
            },
            "source": [
                "A list is the Python equivalent of an array, but is resizeable and can contain elements of different types:"
            ]
        },
        {
            "cell_type": "code",
            "execution_count": 64,
            "metadata": {
                "colab": {
                    "base_uri": "https://localhost:8080/",
                    "height": 52
                },
                "colab_type": "code",
                "id": "hk3A8pPcL9fp",
                "outputId": "b545939a-580c-4356-db95-7ad3670b46e4"
            },
            "outputs": [
                {
                    "name": "stdout",
                    "output_type": "stream",
                    "text": [
                        "[3, 1, 2] 2\n",
                        "2\n"
                    ]
                }
            ],
            "source": [
                "xs = [3, 1, 2]  # Create a list\n",
                "print(xs, xs[2])\n",
                "print(xs[-1])  # Negative indices count from the end of the list; prints \"2\"\n"
            ]
        },
        {
            "cell_type": "code",
            "execution_count": 65,
            "metadata": {
                "colab": {
                    "base_uri": "https://localhost:8080/",
                    "height": 34
                },
                "colab_type": "code",
                "id": "YCjCy_0_L9ft",
                "outputId": "417c54ff-170b-4372-9099-0f756f8e48af"
            },
            "outputs": [
                {
                    "name": "stdout",
                    "output_type": "stream",
                    "text": [
                        "[3, 1, 'foo']\n"
                    ]
                }
            ],
            "source": [
                "xs[2] = 'foo'  # Lists can contain elements of different types\n",
                "print(xs)"
            ]
        },
        {
            "cell_type": "code",
            "execution_count": 66,
            "metadata": {
                "colab": {
                    "base_uri": "https://localhost:8080/",
                    "height": 34
                },
                "colab_type": "code",
                "id": "vJ0x5cF-L9fx",
                "outputId": "a97731a3-70e1-4553-d9e0-2aea227cac80"
            },
            "outputs": [
                {
                    "name": "stdout",
                    "output_type": "stream",
                    "text": [
                        "[3, 1, 'foo', 'bar']\n"
                    ]
                }
            ],
            "source": [
                "xs.append('bar')  # Add a new element to the end of the list\n",
                "print(xs)\n"
            ]
        },
        {
            "cell_type": "code",
            "execution_count": 67,
            "metadata": {
                "colab": {
                    "base_uri": "https://localhost:8080/",
                    "height": 34
                },
                "colab_type": "code",
                "id": "cxVCNRTNL9f1",
                "outputId": "508fbe59-20aa-48b5-a1b2-f90363e7a104"
            },
            "outputs": [
                {
                    "name": "stdout",
                    "output_type": "stream",
                    "text": [
                        "bar [3, 1, 'foo']\n"
                    ]
                }
            ],
            "source": [
                "x = xs.pop()  # Remove and return the last element of the list\n",
                "print(x, xs)"
            ]
        },
        {
            "cell_type": "markdown",
            "metadata": {
                "colab_type": "text",
                "id": "ilyoyO34L9f4"
            },
            "source": [
                "As usual, you can find all the gory details about lists in the [documentation](https://docs.python.org/3.7/tutorial/datastructures.html#more-on-lists)."
            ]
        },
        {
            "cell_type": "markdown",
            "metadata": {
                "colab_type": "text",
                "id": "ovahhxd_L9f5"
            },
            "source": [
                "#### Slicing"
            ]
        },
        {
            "cell_type": "markdown",
            "metadata": {
                "colab_type": "text",
                "id": "YeSYKhv9L9f6"
            },
            "source": [
                "In addition to accessing list elements one at a time, Python provides concise syntax to access sublists; this is known as slicing:"
            ]
        },
        {
            "cell_type": "code",
            "execution_count": 68,
            "metadata": {
                "colab": {
                    "base_uri": "https://localhost:8080/",
                    "height": 139
                },
                "colab_type": "code",
                "id": "ninq666bL9f6",
                "outputId": "c3c2ed92-7358-4fdb-bbc0-e90f82e7e941"
            },
            "outputs": [
                {
                    "name": "stdout",
                    "output_type": "stream",
                    "text": [
                        "[0, 1, 2, 3, 4]\n",
                        "[2, 3]\n",
                        "[2, 3, 4]\n",
                        "[0, 1]\n",
                        "[0, 1, 2, 3, 4]\n",
                        "[0, 1, 2, 3]\n",
                        "[0, 1, 8, 9, 4]\n"
                    ]
                }
            ],
            "source": [
                "nums = list(range(5))  # range is a built-in function that creates a list of integers\n",
                "print(nums)  # Prints \"[0, 1, 2, 3, 4]\"\n",
                "print(nums[2:4])  # Get a slice from index 2 to 4 (exclusive); prints \"[2, 3]\"\n",
                "print(nums[2:])  # Get a slice from index 2 to the end; prints \"[2, 3, 4]\"\n",
                "print(nums[:2])  # Get a slice from the start to index 2 (exclusive); prints \"[0, 1]\"\n",
                "print(nums[:])  # Get a slice of the whole list; prints [\"0, 1, 2, 3, 4]\"\n",
                "print(nums[:-1])  # Slice indices can be negative; prints [\"0, 1, 2, 3]\"\n",
                "nums[2:4] = [8, 9]  # Assign a new sublist to a slice\n",
                "print(nums)  # Prints \"[0, 1, 8, 9, 4]\"\n"
            ]
        },
        {
            "cell_type": "markdown",
            "metadata": {
                "colab_type": "text",
                "id": "UONpMhF4L9f_"
            },
            "source": [
                "#### Loops"
            ]
        },
        {
            "cell_type": "markdown",
            "metadata": {
                "colab_type": "text",
                "id": "_DYz1j6QL9f_"
            },
            "source": [
                "You can loop over the elements of a list like this:"
            ]
        },
        {
            "cell_type": "code",
            "execution_count": 69,
            "metadata": {
                "colab": {
                    "base_uri": "https://localhost:8080/",
                    "height": 69
                },
                "colab_type": "code",
                "id": "4cCOysfWL9gA",
                "outputId": "560e46c7-279c-409a-838c-64bea8d321c4"
            },
            "outputs": [
                {
                    "name": "stdout",
                    "output_type": "stream",
                    "text": [
                        "cat\n",
                        "dog\n",
                        "monkey\n"
                    ]
                }
            ],
            "source": [
                "animals = ['cat', 'dog', 'monkey']\n",
                "for animal in animals:\n",
                "    print(animal)"
            ]
        },
        {
            "cell_type": "markdown",
            "metadata": {
                "colab_type": "text",
                "id": "KxIaQs7pL9gE"
            },
            "source": [
                "If you want access to the index of each element within the body of a loop, use the built-in `enumerate` function:"
            ]
        },
        {
            "cell_type": "code",
            "execution_count": 70,
            "metadata": {
                "colab": {
                    "base_uri": "https://localhost:8080/",
                    "height": 69
                },
                "colab_type": "code",
                "id": "JjGnDluWL9gF",
                "outputId": "81421905-17ea-4c5a-bcc0-176de19fd9bd"
            },
            "outputs": [
                {
                    "name": "stdout",
                    "output_type": "stream",
                    "text": [
                        "#1: cat\n",
                        "#2: dog\n",
                        "#3: monkey\n"
                    ]
                }
            ],
            "source": [
                "animals = ['cat', 'dog', 'monkey']\n",
                "for idx, animal in enumerate(animals):\n",
                "    print('#{}: {}'.format(idx + 1, animal))"
            ]
        },
        {
            "cell_type": "markdown",
            "metadata": {
                "colab_type": "text",
                "id": "arrLCcMyL9gK"
            },
            "source": [
                "#### List comprehensions"
            ]
        },
        {
            "cell_type": "markdown",
            "metadata": {
                "colab_type": "text",
                "id": "5Qn2jU_pL9gL"
            },
            "source": [
                "When programming, frequently we want to transform one type of data into another. As a simple example, consider the following code that computes square numbers:"
            ]
        },
        {
            "cell_type": "code",
            "execution_count": 71,
            "metadata": {
                "colab": {
                    "base_uri": "https://localhost:8080/",
                    "height": 34
                },
                "colab_type": "code",
                "id": "IVNEwoMXL9gL",
                "outputId": "d571445b-055d-45f0-f800-24fd76ceec5a"
            },
            "outputs": [
                {
                    "name": "stdout",
                    "output_type": "stream",
                    "text": [
                        "[0, 1, 4, 9, 16]\n"
                    ]
                }
            ],
            "source": [
                "nums = [0, 1, 2, 3, 4]\n",
                "squares = []\n",
                "for x in nums:\n",
                "    squares.append(x**2)\n",
                "print(squares)"
            ]
        },
        {
            "cell_type": "markdown",
            "metadata": {
                "colab_type": "text",
                "id": "7DmKVUFaL9gQ"
            },
            "source": [
                "You can make this code simpler using a list comprehension:"
            ]
        },
        {
            "cell_type": "code",
            "execution_count": 72,
            "metadata": {
                "colab": {
                    "base_uri": "https://localhost:8080/",
                    "height": 34
                },
                "colab_type": "code",
                "id": "kZxsUfV6L9gR",
                "outputId": "4254a7d4-58ba-4f70-a963-20c46b485b72"
            },
            "outputs": [
                {
                    "name": "stdout",
                    "output_type": "stream",
                    "text": [
                        "[0, 1, 4, 9, 16]\n"
                    ]
                }
            ],
            "source": [
                "nums = [0, 1, 2, 3, 4]\n",
                "squares = [x**2 for x in nums]\n",
                "print(squares)"
            ]
        },
        {
            "cell_type": "markdown",
            "metadata": {
                "colab_type": "text",
                "id": "-D8ARK7tL9gV"
            },
            "source": [
                "List comprehensions can also contain conditions:"
            ]
        },
        {
            "cell_type": "code",
            "execution_count": 73,
            "metadata": {
                "colab": {
                    "base_uri": "https://localhost:8080/",
                    "height": 34
                },
                "colab_type": "code",
                "id": "yUtgOyyYL9gV",
                "outputId": "1ae7ab58-8119-44dc-8e57-fda09197d026"
            },
            "outputs": [
                {
                    "name": "stdout",
                    "output_type": "stream",
                    "text": [
                        "[0, 4, 16]\n"
                    ]
                }
            ],
            "source": [
                "nums = [0, 1, 2, 3, 4]\n",
                "even_squares = [x**2 for x in nums if x % 2 == 0]\n",
                "print(even_squares)"
            ]
        },
        {
            "cell_type": "markdown",
            "metadata": {
                "colab_type": "text",
                "id": "H8xsUEFpL9gZ"
            },
            "source": [
                "#### Dictionaries"
            ]
        },
        {
            "cell_type": "markdown",
            "metadata": {
                "colab_type": "text",
                "id": "kkjAGMAJL9ga"
            },
            "source": [
                "A dictionary stores (key, value) pairs, similar to a `Map` in Java or an object in Javascript. You can use it like this:"
            ]
        },
        {
            "cell_type": "code",
            "execution_count": 74,
            "metadata": {
                "colab": {
                    "base_uri": "https://localhost:8080/",
                    "height": 52
                },
                "colab_type": "code",
                "id": "XBYI1MrYL9gb",
                "outputId": "8e24c1da-0fc0-4b4c-a3e6-6f758a53b7da"
            },
            "outputs": [
                {
                    "name": "stdout",
                    "output_type": "stream",
                    "text": [
                        "cute\n",
                        "True\n"
                    ]
                }
            ],
            "source": [
                "d = {'cat': 'cute', 'dog': 'furry'}  # Create a new dictionary with some data\n",
                "print(d['cat'])  # Get an entry from a dictionary; prints \"cute\"\n",
                "print('cat' in d)  # Check if a dictionary has a given key; prints \"True\"\n"
            ]
        },
        {
            "cell_type": "code",
            "execution_count": 75,
            "metadata": {
                "colab": {
                    "base_uri": "https://localhost:8080/",
                    "height": 34
                },
                "colab_type": "code",
                "id": "pS7e-G-HL9gf",
                "outputId": "feb4bf18-c0a3-42a2-eaf5-3fc390f36dcf"
            },
            "outputs": [
                {
                    "name": "stdout",
                    "output_type": "stream",
                    "text": [
                        "wet\n"
                    ]
                }
            ],
            "source": [
                "d['fish'] = 'wet'  # Set an entry in a dictionary\n",
                "print(d['fish'])  # Prints \"wet\"\n"
            ]
        },
        {
            "cell_type": "code",
            "execution_count": 76,
            "metadata": {
                "colab": {
                    "base_uri": "https://localhost:8080/",
                    "height": 165
                },
                "colab_type": "code",
                "id": "tFY065ItL9gi",
                "outputId": "7e42a5f0-1856-4608-a927-0930ab37a66c"
            },
            "outputs": [
                {
                    "ename": "KeyError",
                    "evalue": "'monkey'",
                    "output_type": "error",
                    "traceback": [
                        "\u001b[0;31m---------------------------------------------------------------------------\u001b[0m",
                        "\u001b[0;31mKeyError\u001b[0m                                  Traceback (most recent call last)",
                        "Cell \u001b[0;32mIn [76], line 1\u001b[0m\n\u001b[0;32m----> 1\u001b[0m \u001b[38;5;28mprint\u001b[39m(\u001b[43md\u001b[49m\u001b[43m[\u001b[49m\u001b[38;5;124;43m'\u001b[39;49m\u001b[38;5;124;43mmonkey\u001b[39;49m\u001b[38;5;124;43m'\u001b[39;49m\u001b[43m]\u001b[49m)\n",
                        "\u001b[0;31mKeyError\u001b[0m: 'monkey'"
                    ]
                }
            ],
            "source": [
                "#print(d['monkey'])  # KeyError: 'monkey' not a key of d"
            ]
        },
        {
            "cell_type": "code",
            "execution_count": 77,
            "metadata": {
                "colab": {
                    "base_uri": "https://localhost:8080/",
                    "height": 52
                },
                "colab_type": "code",
                "id": "8TjbEWqML9gl",
                "outputId": "ef14d05e-401d-4d23-ed1a-0fe6b4c77d6f"
            },
            "outputs": [
                {
                    "name": "stdout",
                    "output_type": "stream",
                    "text": [
                        "N/A\n",
                        "wet\n"
                    ]
                }
            ],
            "source": [
                "print(d.get('monkey', 'N/A'))  # Get an element with a default; prints \"N/A\"\n",
                "print(d.get('fish', 'N/A'))  # Get an element with a default; prints \"wet\"\n"
            ]
        },
        {
            "cell_type": "code",
            "execution_count": 78,
            "metadata": {
                "colab": {
                    "base_uri": "https://localhost:8080/",
                    "height": 34
                },
                "colab_type": "code",
                "id": "0EItdNBJL9go",
                "outputId": "652a950f-b0c2-4623-98bd-0191b300cd57"
            },
            "outputs": [
                {
                    "name": "stdout",
                    "output_type": "stream",
                    "text": [
                        "N/A\n"
                    ]
                }
            ],
            "source": [
                "del d['fish']  # Remove an element from a dictionary\n",
                "print(d.get('fish', 'N/A'))  # \"fish\" is no longer a key; prints \"N/A\"\n"
            ]
        },
        {
            "cell_type": "markdown",
            "metadata": {
                "colab_type": "text",
                "id": "wqm4dRZNL9gr"
            },
            "source": [
                "You can find all you need to know about dictionaries in the [documentation](https://docs.python.org/2/library/stdtypes.html#dict)."
            ]
        },
        {
            "cell_type": "markdown",
            "metadata": {
                "colab_type": "text",
                "id": "IxwEqHlGL9gr"
            },
            "source": [
                "It is easy to iterate over the keys in a dictionary:"
            ]
        },
        {
            "cell_type": "code",
            "execution_count": 79,
            "metadata": {
                "colab": {
                    "base_uri": "https://localhost:8080/",
                    "height": 69
                },
                "colab_type": "code",
                "id": "rYfz7ZKNL9gs",
                "outputId": "155bdb17-3179-4292-c832-8166e955e942"
            },
            "outputs": [
                {
                    "name": "stdout",
                    "output_type": "stream",
                    "text": [
                        "A person has 2 legs\n",
                        "A cat has 4 legs\n",
                        "A spider has 8 legs\n"
                    ]
                }
            ],
            "source": [
                "d = {'person': 2, 'cat': 4, 'spider': 8}\n",
                "for animal, legs in d.items():\n",
                "    print('A {} has {} legs'.format(animal, legs))"
            ]
        },
        {
            "cell_type": "markdown",
            "metadata": {
                "colab_type": "text",
                "id": "17sxiOpzL9gz"
            },
            "source": [
                "Dictionary comprehensions: These are similar to list comprehensions, but allow you to easily construct dictionaries. For example:"
            ]
        },
        {
            "cell_type": "code",
            "execution_count": 80,
            "metadata": {
                "colab": {
                    "base_uri": "https://localhost:8080/",
                    "height": 34
                },
                "colab_type": "code",
                "id": "8PB07imLL9gz",
                "outputId": "e9ddf886-39ed-4f35-dd80-64a19d2eec9b"
            },
            "outputs": [
                {
                    "name": "stdout",
                    "output_type": "stream",
                    "text": [
                        "{0: 0, 2: 4, 4: 16}\n"
                    ]
                }
            ],
            "source": [
                "nums = [0, 1, 2, 3, 4]\n",
                "even_num_to_square = {x: x**2 for x in nums if x % 2 == 0}\n",
                "print(even_num_to_square)"
            ]
        },
        {
            "cell_type": "markdown",
            "metadata": {
                "colab_type": "text",
                "id": "V9MHfUdvL9g2"
            },
            "source": [
                "#### Sets"
            ]
        },
        {
            "cell_type": "markdown",
            "metadata": {
                "colab_type": "text",
                "id": "Rpm4UtNpL9g2"
            },
            "source": [
                "A set is an unordered collection of distinct elements. As a simple example, consider the following:"
            ]
        },
        {
            "cell_type": "code",
            "execution_count": 81,
            "metadata": {
                "colab": {
                    "base_uri": "https://localhost:8080/",
                    "height": 52
                },
                "colab_type": "code",
                "id": "MmyaniLsL9g2",
                "outputId": "8f152d48-0a07-432a-cf98-8de4fd57ddbb"
            },
            "outputs": [
                {
                    "name": "stdout",
                    "output_type": "stream",
                    "text": [
                        "True\n",
                        "False\n"
                    ]
                }
            ],
            "source": [
                "animals = {'cat', 'dog'}\n",
                "print('cat' in animals)  # Check if an element is in a set; prints \"True\"\n",
                "print('fish' in animals)  # prints \"False\"\n"
            ]
        },
        {
            "cell_type": "code",
            "execution_count": 82,
            "metadata": {
                "colab": {
                    "base_uri": "https://localhost:8080/",
                    "height": 52
                },
                "colab_type": "code",
                "id": "ElJEyK86L9g6",
                "outputId": "b9d7dab9-5a98-41cd-efbc-786d0c4377f7"
            },
            "outputs": [
                {
                    "name": "stdout",
                    "output_type": "stream",
                    "text": [
                        "True\n",
                        "3\n"
                    ]
                }
            ],
            "source": [
                "animals.add('fish')  # Add an element to a set\n",
                "print('fish' in animals)\n",
                "print(len(animals))  # Number of elements in a set;\n"
            ]
        },
        {
            "cell_type": "code",
            "execution_count": 83,
            "metadata": {
                "colab": {
                    "base_uri": "https://localhost:8080/",
                    "height": 52
                },
                "colab_type": "code",
                "id": "5uGmrxdPL9g9",
                "outputId": "e644d24c-26c6-4b43-ab15-8aa81fe884d4"
            },
            "outputs": [
                {
                    "name": "stdout",
                    "output_type": "stream",
                    "text": [
                        "3\n",
                        "2\n"
                    ]
                }
            ],
            "source": [
                "animals.add('cat')  # Adding an element that is already in the set does nothing\n",
                "print(len(animals))\n",
                "animals.remove('cat')  # Remove an element from a set\n",
                "print(len(animals))\n"
            ]
        },
        {
            "cell_type": "markdown",
            "metadata": {
                "colab_type": "text",
                "id": "zk2DbvLKL9g_"
            },
            "source": [
                "*Loops*: Iterating over a set has the same syntax as iterating over a list; however since sets are unordered, you cannot make assumptions about the order in which you visit the elements of the set:"
            ]
        },
        {
            "cell_type": "code",
            "execution_count": 84,
            "metadata": {
                "colab": {
                    "base_uri": "https://localhost:8080/",
                    "height": 69
                },
                "colab_type": "code",
                "id": "K47KYNGyL9hA",
                "outputId": "4477f897-4355-4816-b39b-b93ffbac4bf0"
            },
            "outputs": [
                {
                    "name": "stdout",
                    "output_type": "stream",
                    "text": [
                        "#1: fish\n",
                        "#2: cat\n",
                        "#3: dog\n"
                    ]
                }
            ],
            "source": [
                "animals = {'cat', 'dog', 'fish'}\n",
                "for idx, animal in enumerate(animals):\n",
                "    print('#{}: {}'.format(idx + 1, animal))"
            ]
        },
        {
            "cell_type": "markdown",
            "metadata": {
                "colab_type": "text",
                "id": "puq4S8buL9hC"
            },
            "source": [
                "Set comprehensions: Like lists and dictionaries, we can easily construct sets using set comprehensions:"
            ]
        },
        {
            "cell_type": "code",
            "execution_count": 85,
            "metadata": {
                "colab": {
                    "base_uri": "https://localhost:8080/",
                    "height": 34
                },
                "colab_type": "code",
                "id": "iw7k90k3L9hC",
                "outputId": "72d6b824-6d31-47b2-f929-4cf434590ee5"
            },
            "outputs": [
                {
                    "name": "stdout",
                    "output_type": "stream",
                    "text": [
                        "{0, 1, 2, 3, 4, 5}\n"
                    ]
                }
            ],
            "source": [
                "from math import sqrt\n",
                "\n",
                "print({int(sqrt(x)) for x in range(30)})"
            ]
        },
        {
            "cell_type": "markdown",
            "metadata": {
                "colab_type": "text",
                "id": "qPsHSKB1L9hF"
            },
            "source": [
                "#### Tuples"
            ]
        },
        {
            "cell_type": "markdown",
            "metadata": {
                "colab_type": "text",
                "id": "kucc0LKVL9hG"
            },
            "source": [
                "A tuple is an (immutable) ordered list of values. A tuple is in many ways similar to a list; one of the most important differences is that tuples can be used as keys in dictionaries and as elements of sets, while lists cannot. Here is a trivial example:"
            ]
        },
        {
            "cell_type": "code",
            "execution_count": 86,
            "metadata": {
                "colab": {
                    "base_uri": "https://localhost:8080/",
                    "height": 69
                },
                "colab_type": "code",
                "id": "9wHUyTKxL9hH",
                "outputId": "cdc5f620-04fe-4b0b-df7a-55b061d23d88"
            },
            "outputs": [
                {
                    "name": "stdout",
                    "output_type": "stream",
                    "text": [
                        "<class 'tuple'>\n",
                        "5\n",
                        "1\n"
                    ]
                }
            ],
            "source": [
                "d = {(x, x + 1): x for x in range(10)}  # Create a dictionary with tuple keys\n",
                "t = (5, 6)  # Create a tuple\n",
                "print(type(t))\n",
                "print(d[t])\n",
                "print(d[(1, 2)])"
            ]
        },
        {
            "cell_type": "code",
            "execution_count": 87,
            "metadata": {
                "colab": {
                    "base_uri": "https://localhost:8080/",
                    "height": 165
                },
                "colab_type": "code",
                "id": "HoO8zYKzL9hJ",
                "outputId": "28862bfc-0298-40d7-f8c4-168e109d2d93"
            },
            "outputs": [
                {
                    "ename": "TypeError",
                    "evalue": "'tuple' object does not support item assignment",
                    "output_type": "error",
                    "traceback": [
                        "\u001b[0;31m---------------------------------------------------------------------------\u001b[0m",
                        "\u001b[0;31mTypeError\u001b[0m                                 Traceback (most recent call last)",
                        "Cell \u001b[0;32mIn [87], line 1\u001b[0m\n\u001b[0;32m----> 1\u001b[0m \u001b[43mt\u001b[49m\u001b[43m[\u001b[49m\u001b[38;5;241;43m0\u001b[39;49m\u001b[43m]\u001b[49m \u001b[38;5;241m=\u001b[39m \u001b[38;5;241m1\u001b[39m\n",
                        "\u001b[0;31mTypeError\u001b[0m: 'tuple' object does not support item assignment"
                    ]
                }
            ],
            "source": [
                "t[0] = 1"
            ]
        },
        {
            "cell_type": "markdown",
            "metadata": {
                "colab_type": "text",
                "id": "AXA4jrEOL9hM"
            },
            "source": [
                "### Functions"
            ]
        },
        {
            "cell_type": "markdown",
            "metadata": {
                "colab_type": "text",
                "id": "WaRms-QfL9hN"
            },
            "source": [
                "Python functions are defined using the `def` keyword. For example:"
            ]
        },
        {
            "cell_type": "code",
            "execution_count": 88,
            "metadata": {
                "colab": {
                    "base_uri": "https://localhost:8080/",
                    "height": 69
                },
                "colab_type": "code",
                "id": "kiMDUr58L9hN",
                "outputId": "9f53bf9a-7b2a-4c51-9def-398e4677cd6c"
            },
            "outputs": [
                {
                    "name": "stdout",
                    "output_type": "stream",
                    "text": [
                        "negative\n",
                        "zero\n",
                        "positive\n"
                    ]
                }
            ],
            "source": [
                "def sign(x):\n",
                "    if x > 0:\n",
                "        return 'positive'\n",
                "    elif x < 0:\n",
                "        return 'negative'\n",
                "    else:\n",
                "        return 'zero'\n",
                "\n",
                "\n",
                "for x in [-1, 0, 1]:\n",
                "    print(sign(x))"
            ]
        },
        {
            "cell_type": "markdown",
            "metadata": {
                "colab_type": "text",
                "id": "U-QJFt8TL9hR"
            },
            "source": [
                "We will often define functions to take optional keyword arguments, like this:"
            ]
        },
        {
            "cell_type": "code",
            "execution_count": 89,
            "metadata": {
                "colab": {
                    "base_uri": "https://localhost:8080/",
                    "height": 52
                },
                "colab_type": "code",
                "id": "PfsZ3DazL9hR",
                "outputId": "6e6af832-67d8-4d8c-949b-335927684ae3"
            },
            "outputs": [
                {
                    "name": "stdout",
                    "output_type": "stream",
                    "text": [
                        "Hello, Bob!\n",
                        "HELLO, FRED\n"
                    ]
                }
            ],
            "source": [
                "def hello(name, loud=False):\n",
                "    if loud:\n",
                "        print('HELLO, {}'.format(name.upper()))\n",
                "    else:\n",
                "        print('Hello, {}!'.format(name))\n",
                "\n",
                "\n",
                "hello('Bob')\n",
                "hello('Fred', loud=True)"
            ]
        },
        {
            "cell_type": "markdown",
            "metadata": {
                "colab_type": "text",
                "id": "ObA9PRtQL9hT"
            },
            "source": [
                "### Classes"
            ]
        },
        {
            "cell_type": "markdown",
            "metadata": {
                "colab_type": "text",
                "id": "hAzL_lTkL9hU"
            },
            "source": [
                "The syntax for defining classes in Python is straightforward:"
            ]
        },
        {
            "cell_type": "code",
            "execution_count": 90,
            "metadata": {
                "colab": {
                    "base_uri": "https://localhost:8080/",
                    "height": 52
                },
                "colab_type": "code",
                "id": "RWdbaGigL9hU",
                "outputId": "4f6615c5-75a7-4ce4-8ea1-1e7f5e4e9fc3"
            },
            "outputs": [
                {
                    "name": "stdout",
                    "output_type": "stream",
                    "text": [
                        "Hello, Fred!\n",
                        "HELLO, FRED\n"
                    ]
                }
            ],
            "source": [
                "class Greeter:\n",
                "\n",
                "    # Constructor\n",
                "    def __init__(self, name):\n",
                "        self.name = name  # Create an instance variable\n",
                "\n",
                "    # Instance method\n",
                "    def greet(self, loud=False):\n",
                "        if loud:\n",
                "            print('HELLO, {}'.format(self.name.upper()))\n",
                "        else:\n",
                "            print('Hello, {}!'.format(self.name))\n",
                "\n",
                "\n",
                "g = Greeter('Fred')  # Construct an instance of the Greeter class\n",
                "g.greet()  # Call an instance method; prints \"Hello, Fred\"\n",
                "g.greet(loud=True)  # Call an instance method; prints \"HELLO, FRED!\"\n"
            ]
        },
        {
            "cell_type": "markdown",
            "metadata": {
                "colab_type": "text",
                "id": "3cfrOV4dL9hW"
            },
            "source": [
                "## Numpy"
            ]
        },
        {
            "cell_type": "markdown",
            "metadata": {
                "colab_type": "text",
                "id": "fY12nHhyL9hX"
            },
            "source": [
                "Numpy is the core library for scientific computing in Python. It provides a high-performance multidimensional array object, and tools for working with these arrays. If you are already familiar with MATLAB, you might find this [tutorial](http://wiki.scipy.org/NumPy_for_Matlab_Users) useful to get started with Numpy."
            ]
        },
        {
            "cell_type": "markdown",
            "metadata": {
                "colab_type": "text",
                "id": "lZMyAdqhL9hY"
            },
            "source": [
                "To use Numpy, we first need to import the `numpy` package:"
            ]
        },
        {
            "cell_type": "code",
            "execution_count": 91,
            "metadata": {
                "colab": {},
                "colab_type": "code",
                "id": "58QdX8BLL9hZ"
            },
            "outputs": [],
            "source": [
                "import numpy as np"
            ]
        },
        {
            "cell_type": "markdown",
            "metadata": {
                "colab_type": "text",
                "id": "DDx6v1EdL9hb"
            },
            "source": [
                "### Arrays"
            ]
        },
        {
            "cell_type": "markdown",
            "metadata": {
                "colab_type": "text",
                "id": "f-Zv3f7LL9hc"
            },
            "source": [
                "A numpy array is a grid of values, all of the same type, and is indexed by a tuple of nonnegative integers. The number of dimensions is the rank of the array; the shape of an array is a tuple of integers giving the size of the array along each dimension."
            ]
        },
        {
            "cell_type": "markdown",
            "metadata": {
                "colab_type": "text",
                "id": "_eMTRnZRL9hc"
            },
            "source": [
                "We can initialize numpy arrays from nested Python lists, and access elements using square brackets:"
            ]
        },
        {
            "cell_type": "code",
            "execution_count": 92,
            "metadata": {
                "colab": {
                    "base_uri": "https://localhost:8080/",
                    "height": 52
                },
                "colab_type": "code",
                "id": "-l3JrGxCL9hc",
                "outputId": "8d9dad18-c734-4a8a-ca8c-44060a40fb79"
            },
            "outputs": [
                {
                    "name": "stdout",
                    "output_type": "stream",
                    "text": [
                        "<class 'numpy.ndarray'> (3,) 1 2 3\n",
                        "[5 2 3]\n"
                    ]
                }
            ],
            "source": [
                "a = np.array([1, 2, 3])  # Create a rank 1 array\n",
                "print(type(a), a.shape, a[0], a[1], a[2])\n",
                "a[0] = 5  # Change an element of the array\n",
                "print(a)\n"
            ]
        },
        {
            "cell_type": "code",
            "execution_count": 93,
            "metadata": {
                "colab": {
                    "base_uri": "https://localhost:8080/",
                    "height": 52
                },
                "colab_type": "code",
                "id": "ma6mk-kdL9hh",
                "outputId": "0b54ff2f-e7f1-4b30-c653-9bf81cb8fbb0"
            },
            "outputs": [
                {
                    "name": "stdout",
                    "output_type": "stream",
                    "text": [
                        "[[1 2 3]\n",
                        " [4 5 6]]\n"
                    ]
                }
            ],
            "source": [
                "b = np.array([[1, 2, 3], [4, 5, 6]])  # Create a rank 2 array\n",
                "print(b)"
            ]
        },
        {
            "cell_type": "code",
            "execution_count": 94,
            "metadata": {
                "colab": {
                    "base_uri": "https://localhost:8080/",
                    "height": 52
                },
                "colab_type": "code",
                "id": "ymfSHAwtL9hj",
                "outputId": "5bd292d8-c751-43b9-d480-f357dde52342"
            },
            "outputs": [
                {
                    "name": "stdout",
                    "output_type": "stream",
                    "text": [
                        "(2, 3)\n",
                        "1 2 4\n"
                    ]
                }
            ],
            "source": [
                "print(b.shape)\n",
                "print(b[0, 0], b[0, 1], b[1, 0])"
            ]
        },
        {
            "cell_type": "markdown",
            "metadata": {
                "colab_type": "text",
                "id": "F2qwdyvuL9hn"
            },
            "source": [
                "Numpy also provides many functions to create arrays:"
            ]
        },
        {
            "cell_type": "code",
            "execution_count": 95,
            "metadata": {
                "colab": {
                    "base_uri": "https://localhost:8080/",
                    "height": 52
                },
                "colab_type": "code",
                "id": "mVTN_EBqL9hn",
                "outputId": "d267c65f-ba90-4043-cedb-f468ab1bcc5d"
            },
            "outputs": [
                {
                    "name": "stdout",
                    "output_type": "stream",
                    "text": [
                        "[[0. 0.]\n",
                        " [0. 0.]]\n"
                    ]
                }
            ],
            "source": [
                "a = np.zeros((2, 2))  # Create an array of all zeros\n",
                "print(a)"
            ]
        },
        {
            "cell_type": "code",
            "execution_count": 96,
            "metadata": {
                "colab": {
                    "base_uri": "https://localhost:8080/",
                    "height": 34
                },
                "colab_type": "code",
                "id": "skiKlNmlL9h5",
                "outputId": "7d1ec1b5-a1fe-4f44-cbe3-cdeacad425f1"
            },
            "outputs": [
                {
                    "name": "stdout",
                    "output_type": "stream",
                    "text": [
                        "[[1. 1.]]\n"
                    ]
                }
            ],
            "source": [
                "b = np.ones((1, 2))  # Create an array of all ones\n",
                "print(b)"
            ]
        },
        {
            "cell_type": "code",
            "execution_count": 97,
            "metadata": {
                "colab": {
                    "base_uri": "https://localhost:8080/",
                    "height": 52
                },
                "colab_type": "code",
                "id": "HtFsr03bL9h7",
                "outputId": "2688b157-2fad-4fc6-f20b-8633207f0326"
            },
            "outputs": [
                {
                    "name": "stdout",
                    "output_type": "stream",
                    "text": [
                        "[[7 7]\n",
                        " [7 7]]\n"
                    ]
                }
            ],
            "source": [
                "c = np.full((2, 2), 7)  # Create a constant array\n",
                "print(c)"
            ]
        },
        {
            "cell_type": "code",
            "execution_count": 98,
            "metadata": {
                "colab": {
                    "base_uri": "https://localhost:8080/",
                    "height": 52
                },
                "colab_type": "code",
                "id": "-QcALHvkL9h9",
                "outputId": "5035d6fe-cb7e-4222-c972-55fe23c9d4c0"
            },
            "outputs": [
                {
                    "name": "stdout",
                    "output_type": "stream",
                    "text": [
                        "[[1. 0.]\n",
                        " [0. 1.]]\n"
                    ]
                }
            ],
            "source": [
                "d = np.eye(2)  # Create a 2x2 identity matrix\n",
                "print(d)"
            ]
        },
        {
            "cell_type": "code",
            "execution_count": 99,
            "metadata": {
                "colab": {
                    "base_uri": "https://localhost:8080/",
                    "height": 52
                },
                "colab_type": "code",
                "id": "RCpaYg9qL9iA",
                "outputId": "25f0b387-39cf-42f3-8701-de860cc75e2e"
            },
            "outputs": [
                {
                    "name": "stdout",
                    "output_type": "stream",
                    "text": [
                        "[[0.23304924 0.64693346]\n",
                        " [0.6724569  0.03543707]]\n"
                    ]
                }
            ],
            "source": [
                "e = np.random.random((2, 2))  # Create an array filled with random values\n",
                "print(e)"
            ]
        },
        {
            "cell_type": "markdown",
            "metadata": {
                "colab_type": "text",
                "id": "jI5qcSDfL9iC"
            },
            "source": [
                "### Array indexing"
            ]
        },
        {
            "cell_type": "markdown",
            "metadata": {
                "colab_type": "text",
                "id": "M-E4MUeVL9iC"
            },
            "source": [
                "Numpy offers several ways to index into arrays."
            ]
        },
        {
            "cell_type": "markdown",
            "metadata": {
                "colab_type": "text",
                "id": "QYv4JyIEL9iD"
            },
            "source": [
                "Slicing: Similar to Python lists, numpy arrays can be sliced. Since arrays may be multidimensional, you must specify a slice for each dimension of the array:"
            ]
        },
        {
            "cell_type": "code",
            "execution_count": 100,
            "metadata": {
                "colab": {
                    "base_uri": "https://localhost:8080/",
                    "height": 52
                },
                "colab_type": "code",
                "id": "wLWA0udwL9iD",
                "outputId": "99f08618-c513-4982-8982-b146fc72dab3"
            },
            "outputs": [
                {
                    "name": "stdout",
                    "output_type": "stream",
                    "text": [
                        "[[2 3]\n",
                        " [6 7]]\n"
                    ]
                }
            ],
            "source": [
                "import numpy as np\n",
                "\n",
                "# Create the following rank 2 array with shape (3, 4)\n",
                "# [[ 1  2  3  4]\n",
                "#  [ 5  6  7  8]\n",
                "#  [ 9 10 11 12]]\n",
                "a = np.array([[1, 2, 3, 4], [5, 6, 7, 8], [9, 10, 11, 12]])\n",
                "\n",
                "# Use slicing to pull out the subarray consisting of the first 2 rows\n",
                "# and columns 1 and 2; b is the following array of shape (2, 2):\n",
                "# [[2 3]\n",
                "#  [6 7]]\n",
                "b = a[:2, 1:3]\n",
                "print(b)"
            ]
        },
        {
            "cell_type": "markdown",
            "metadata": {
                "colab_type": "text",
                "id": "KahhtZKYL9iF"
            },
            "source": [
                "A slice of an array is a view into the same data, so modifying it will modify the original array."
            ]
        },
        {
            "cell_type": "code",
            "execution_count": 101,
            "metadata": {
                "colab": {
                    "base_uri": "https://localhost:8080/",
                    "height": 52
                },
                "colab_type": "code",
                "id": "1kmtaFHuL9iG",
                "outputId": "ee3ab60c-4064-4a9e-b04c-453d3955f1d1"
            },
            "outputs": [
                {
                    "name": "stdout",
                    "output_type": "stream",
                    "text": [
                        "2\n",
                        "77\n"
                    ]
                }
            ],
            "source": [
                "print(a[0, 1])\n",
                "b[0, 0] = 77  # b[0, 0] is the same piece of data as a[0, 1]\n",
                "print(a[0, 1])\n"
            ]
        },
        {
            "cell_type": "markdown",
            "metadata": {
                "colab_type": "text",
                "id": "_Zcf3zi-L9iI"
            },
            "source": [
                "You can also mix integer indexing with slice indexing. However, doing so will yield an array of lower rank than the original array. Note that this is quite different from the way that MATLAB handles array slicing:"
            ]
        },
        {
            "cell_type": "code",
            "execution_count": 102,
            "metadata": {
                "colab": {
                    "base_uri": "https://localhost:8080/",
                    "height": 69
                },
                "colab_type": "code",
                "id": "G6lfbPuxL9iJ",
                "outputId": "a225fe9d-2a29-4e14-a243-2b7d583bd4bc"
            },
            "outputs": [
                {
                    "name": "stdout",
                    "output_type": "stream",
                    "text": [
                        "[[ 1  2  3  4]\n",
                        " [ 5  6  7  8]\n",
                        " [ 9 10 11 12]]\n"
                    ]
                }
            ],
            "source": [
                "# Create the following rank 2 array with shape (3, 4)\n",
                "a = np.array([[1, 2, 3, 4], [5, 6, 7, 8], [9, 10, 11, 12]])\n",
                "print(a)"
            ]
        },
        {
            "cell_type": "markdown",
            "metadata": {
                "colab_type": "text",
                "id": "NCye3NXhL9iL"
            },
            "source": [
                "Two ways of accessing the data in the middle row of the array.\n",
                "Mixing integer indexing with slices yields an array of lower rank,\n",
                "while using only slices yields an array of the same rank as the\n",
                "original array:"
            ]
        },
        {
            "cell_type": "code",
            "execution_count": 103,
            "metadata": {
                "colab": {
                    "base_uri": "https://localhost:8080/",
                    "height": 69
                },
                "colab_type": "code",
                "id": "EOiEMsmNL9iL",
                "outputId": "ab2ebe48-9002-45a8-9462-fd490b467f40"
            },
            "outputs": [
                {
                    "name": "stdout",
                    "output_type": "stream",
                    "text": [
                        "[5 6 7 8] (4,)\n",
                        "[[5 6 7 8]] (1, 4)\n",
                        "[[5 6 7 8]] (1, 4)\n"
                    ]
                }
            ],
            "source": [
                "row_r1 = a[1, :]  # Rank 1 view of the second row of a\n",
                "row_r2 = a[1:2, :]  # Rank 2 view of the second row of a\n",
                "row_r3 = a[[1], :]  # Rank 2 view of the second row of a\n",
                "print(row_r1, row_r1.shape)\n",
                "print(row_r2, row_r2.shape)\n",
                "print(row_r3, row_r3.shape)"
            ]
        },
        {
            "cell_type": "code",
            "execution_count": 104,
            "metadata": {
                "colab": {
                    "base_uri": "https://localhost:8080/",
                    "height": 104
                },
                "colab_type": "code",
                "id": "JXu73pfDL9iN",
                "outputId": "6c589b85-e9b0-4c13-a39d-4cd9fb2f41ac"
            },
            "outputs": [
                {
                    "name": "stdout",
                    "output_type": "stream",
                    "text": [
                        "[ 2  6 10] (3,)\n",
                        "\n",
                        "[[ 2]\n",
                        " [ 6]\n",
                        " [10]] (3, 1)\n"
                    ]
                }
            ],
            "source": [
                "# We can make the same distinction when accessing columns of an array:\n",
                "col_r1 = a[:, 1]\n",
                "col_r2 = a[:, 1:2]\n",
                "print(col_r1, col_r1.shape)\n",
                "print()\n",
                "print(col_r2, col_r2.shape)"
            ]
        },
        {
            "cell_type": "markdown",
            "metadata": {
                "colab_type": "text",
                "id": "VP3916bOL9iP"
            },
            "source": [
                "Integer array indexing: When you index into numpy arrays using slicing, the resulting array view will always be a subarray of the original array. In contrast, integer array indexing allows you to construct arbitrary arrays using the data from another array. Here is an example:"
            ]
        },
        {
            "cell_type": "code",
            "execution_count": 105,
            "metadata": {
                "colab": {
                    "base_uri": "https://localhost:8080/",
                    "height": 52
                },
                "colab_type": "code",
                "id": "TBnWonIDL9iP",
                "outputId": "c29fa2cd-234e-4765-c70a-6889acc63573"
            },
            "outputs": [
                {
                    "name": "stdout",
                    "output_type": "stream",
                    "text": [
                        "[1 4 5]\n",
                        "[1 4 5]\n"
                    ]
                }
            ],
            "source": [
                "a = np.array([[1, 2], [3, 4], [5, 6]])\n",
                "\n",
                "# An example of integer array indexing.\n",
                "# The returned array will have shape (3,) and\n",
                "print(a[[0, 1, 2], [0, 1, 0]])\n",
                "\n",
                "# The above example of integer array indexing is equivalent to this:\n",
                "print(np.array([a[0, 0], a[1, 1], a[2, 0]]))"
            ]
        },
        {
            "cell_type": "code",
            "execution_count": 106,
            "metadata": {
                "colab": {
                    "base_uri": "https://localhost:8080/",
                    "height": 52
                },
                "colab_type": "code",
                "id": "n7vuati-L9iR",
                "outputId": "c3e9ba14-f66e-4202-999e-2e1aed5bd631"
            },
            "outputs": [
                {
                    "name": "stdout",
                    "output_type": "stream",
                    "text": [
                        "[2 2]\n",
                        "[2 2]\n"
                    ]
                }
            ],
            "source": [
                "# When using integer array indexing, you can reuse the same\n",
                "# element from the source array:\n",
                "print(a[[0, 0], [1, 1]])\n",
                "\n",
                "# Equivalent to the previous integer array indexing example\n",
                "print(np.array([a[0, 1], a[0, 1]]))"
            ]
        },
        {
            "cell_type": "markdown",
            "metadata": {
                "colab_type": "text",
                "id": "kaipSLafL9iU"
            },
            "source": [
                "One useful trick with integer array indexing is selecting or mutating one element from each row of a matrix:"
            ]
        },
        {
            "cell_type": "code",
            "execution_count": 107,
            "metadata": {
                "colab": {
                    "base_uri": "https://localhost:8080/",
                    "height": 86
                },
                "colab_type": "code",
                "id": "ehqsV7TXL9iU",
                "outputId": "de509c40-4ee4-4b7c-e75d-1a936a3350e7"
            },
            "outputs": [
                {
                    "name": "stdout",
                    "output_type": "stream",
                    "text": [
                        "[[ 1  2  3]\n",
                        " [ 4  5  6]\n",
                        " [ 7  8  9]\n",
                        " [10 11 12]]\n"
                    ]
                }
            ],
            "source": [
                "# Create a new array from which we will select elements\n",
                "a = np.array([[1, 2, 3], [4, 5, 6], [7, 8, 9], [10, 11, 12]])\n",
                "print(a)"
            ]
        },
        {
            "cell_type": "code",
            "execution_count": 108,
            "metadata": {
                "colab": {
                    "base_uri": "https://localhost:8080/",
                    "height": 34
                },
                "colab_type": "code",
                "id": "pAPOoqy5L9iV",
                "outputId": "f812e29b-9218-4767-d3a8-e9854e754e68"
            },
            "outputs": [
                {
                    "name": "stdout",
                    "output_type": "stream",
                    "text": [
                        "[ 1  6  7 11]\n"
                    ]
                }
            ],
            "source": [
                "# Create an array of indices\n",
                "b = np.array([0, 2, 0, 1])\n",
                "\n",
                "# Select one element from each row of a using the indices in b\n",
                "print(a[np.arange(4), b])  # Prints \"[ 1  6  7 11]\""
            ]
        },
        {
            "cell_type": "code",
            "execution_count": 109,
            "metadata": {
                "colab": {
                    "base_uri": "https://localhost:8080/",
                    "height": 86
                },
                "colab_type": "code",
                "id": "6v1PdI1DL9ib",
                "outputId": "89f50f82-de1b-4417-e55c-edbc0ee07584"
            },
            "outputs": [
                {
                    "name": "stdout",
                    "output_type": "stream",
                    "text": [
                        "[[11  2  3]\n",
                        " [ 4  5 16]\n",
                        " [17  8  9]\n",
                        " [10 21 12]]\n"
                    ]
                }
            ],
            "source": [
                "# Mutate one element from each row of a using the indices in b\n",
                "a[np.arange(4), b] += 10\n",
                "print(a)"
            ]
        },
        {
            "cell_type": "markdown",
            "metadata": {
                "colab_type": "text",
                "id": "kaE8dBGgL9id"
            },
            "source": [
                "Boolean array indexing: Boolean array indexing lets you pick out arbitrary elements of an array. Frequently this type of indexing is used to select the elements of an array that satisfy some condition. Here is an example:"
            ]
        },
        {
            "cell_type": "code",
            "execution_count": 110,
            "metadata": {
                "colab": {
                    "base_uri": "https://localhost:8080/",
                    "height": 69
                },
                "colab_type": "code",
                "id": "32PusjtKL9id",
                "outputId": "8782e8ec-b78d-44d7-8141-23e39750b854"
            },
            "outputs": [
                {
                    "name": "stdout",
                    "output_type": "stream",
                    "text": [
                        "[[False False]\n",
                        " [ True  True]\n",
                        " [ True  True]]\n"
                    ]
                }
            ],
            "source": [
                "import numpy as np\n",
                "\n",
                "a = np.array([[1, 2], [3, 4], [5, 6]])\n",
                "\n",
                "bool_idx = (a > 2)  # Find the elements of a that are bigger than 2;\n",
                "# this returns a numpy array of Booleans of the same\n",
                "# shape as a, where each slot of bool_idx tells\n",
                "# whether that element of a is > 2.\n",
                "\n",
                "print(bool_idx)"
            ]
        },
        {
            "cell_type": "code",
            "execution_count": 111,
            "metadata": {
                "colab": {
                    "base_uri": "https://localhost:8080/",
                    "height": 52
                },
                "colab_type": "code",
                "id": "cb2IRMXaL9if",
                "outputId": "5983f208-3738-472d-d6ab-11fe85b36c95"
            },
            "outputs": [
                {
                    "name": "stdout",
                    "output_type": "stream",
                    "text": [
                        "[3 4 5 6]\n",
                        "[3 4 5 6]\n"
                    ]
                }
            ],
            "source": [
                "# We use boolean array indexing to construct a rank 1 array\n",
                "# consisting of the elements of a corresponding to the True values\n",
                "# of bool_idx\n",
                "print(a[bool_idx])\n",
                "\n",
                "# We can do all of the above in a single concise statement:\n",
                "print(a[a > 2])"
            ]
        },
        {
            "cell_type": "markdown",
            "metadata": {
                "colab_type": "text",
                "id": "CdofMonAL9ih"
            },
            "source": [
                "For brevity we have left out a lot of details about numpy array indexing; if you want to know more you should read the documentation."
            ]
        },
        {
            "cell_type": "markdown",
            "metadata": {
                "colab_type": "text",
                "id": "jTctwqdQL9ih"
            },
            "source": [
                "### Datatypes"
            ]
        },
        {
            "cell_type": "markdown",
            "metadata": {
                "colab_type": "text",
                "id": "kSZQ1WkIL9ih"
            },
            "source": [
                "Every numpy array is a grid of elements of the same type. Numpy provides a large set of numeric datatypes that you can use to construct arrays. Numpy tries to guess a datatype when you create an array, but functions that construct arrays usually also include an optional argument to explicitly specify the datatype. Here is an example:"
            ]
        },
        {
            "cell_type": "code",
            "execution_count": 112,
            "metadata": {
                "colab": {
                    "base_uri": "https://localhost:8080/",
                    "height": 34
                },
                "colab_type": "code",
                "id": "4za4O0m5L9ih",
                "outputId": "2ea4fb80-a4df-43f9-c162-5665895c13ae"
            },
            "outputs": [
                {
                    "name": "stdout",
                    "output_type": "stream",
                    "text": [
                        "int64 float64 int64\n"
                    ]
                }
            ],
            "source": [
                "x = np.array([1, 2])  # Let numpy choose the datatype\n",
                "y = np.array([1.0, 2.0])  # Let numpy choose the datatype\n",
                "z = np.array([1, 2], dtype=np.int64)  # Force a particular datatype\n",
                "\n",
                "print(x.dtype, y.dtype, z.dtype)"
            ]
        },
        {
            "cell_type": "markdown",
            "metadata": {
                "colab_type": "text",
                "id": "RLVIsZQpL9ik"
            },
            "source": [
                "You can read all about numpy datatypes in the [documentation](http://docs.scipy.org/doc/numpy/reference/arrays.dtypes.html)."
            ]
        },
        {
            "cell_type": "markdown",
            "metadata": {
                "colab_type": "text",
                "id": "TuB-fdhIL9ik"
            },
            "source": [
                "### Array math"
            ]
        },
        {
            "cell_type": "markdown",
            "metadata": {
                "colab_type": "text",
                "id": "18e8V8elL9ik"
            },
            "source": [
                "Basic mathematical functions operate elementwise on arrays, and are available both as operator overloads and as functions in the numpy module:"
            ]
        },
        {
            "cell_type": "code",
            "execution_count": 113,
            "metadata": {
                "colab": {
                    "base_uri": "https://localhost:8080/",
                    "height": 86
                },
                "colab_type": "code",
                "id": "gHKvBrSKL9il",
                "outputId": "a8a924b1-9d60-4b68-8fd3-e4657ae3f08b"
            },
            "outputs": [
                {
                    "name": "stdout",
                    "output_type": "stream",
                    "text": [
                        "[[ 6.  8.]\n",
                        " [10. 12.]]\n",
                        "[[ 6.  8.]\n",
                        " [10. 12.]]\n"
                    ]
                }
            ],
            "source": [
                "x = np.array([[1, 2], [3, 4]], dtype=np.float64)\n",
                "y = np.array([[5, 6], [7, 8]], dtype=np.float64)\n",
                "\n",
                "# Elementwise sum; both produce the array\n",
                "print(x + y)\n",
                "print(np.add(x, y))"
            ]
        },
        {
            "cell_type": "code",
            "execution_count": 114,
            "metadata": {
                "colab": {
                    "base_uri": "https://localhost:8080/",
                    "height": 86
                },
                "colab_type": "code",
                "id": "1fZtIAMxL9in",
                "outputId": "122f1380-6144-4d6c-9d31-f62d839889a2"
            },
            "outputs": [
                {
                    "name": "stdout",
                    "output_type": "stream",
                    "text": [
                        "[[-4. -4.]\n",
                        " [-4. -4.]]\n",
                        "[[-4. -4.]\n",
                        " [-4. -4.]]\n"
                    ]
                }
            ],
            "source": [
                "# Elementwise difference; both produce the array\n",
                "print(x - y)\n",
                "print(np.subtract(x, y))"
            ]
        },
        {
            "cell_type": "code",
            "execution_count": 115,
            "metadata": {
                "colab": {
                    "base_uri": "https://localhost:8080/",
                    "height": 86
                },
                "colab_type": "code",
                "id": "nil4AScML9io",
                "outputId": "038c8bb2-122b-4e59-c0a8-a091014fe68e"
            },
            "outputs": [
                {
                    "name": "stdout",
                    "output_type": "stream",
                    "text": [
                        "[[ 5. 12.]\n",
                        " [21. 32.]]\n",
                        "[[ 5. 12.]\n",
                        " [21. 32.]]\n"
                    ]
                }
            ],
            "source": [
                "# Elementwise product; both produce the array\n",
                "print(x * y)\n",
                "print(np.multiply(x, y))"
            ]
        },
        {
            "cell_type": "code",
            "execution_count": 116,
            "metadata": {
                "colab": {
                    "base_uri": "https://localhost:8080/",
                    "height": 86
                },
                "colab_type": "code",
                "id": "0JoA4lH6L9ip",
                "outputId": "12351a74-7871-4bc2-97ce-a508bf4810da"
            },
            "outputs": [
                {
                    "name": "stdout",
                    "output_type": "stream",
                    "text": [
                        "[[0.2        0.33333333]\n",
                        " [0.42857143 0.5       ]]\n",
                        "[[0.2        0.33333333]\n",
                        " [0.42857143 0.5       ]]\n"
                    ]
                }
            ],
            "source": [
                "# Elementwise division; both produce the array\n",
                "# [[ 0.2         0.33333333]\n",
                "#  [ 0.42857143  0.5       ]]\n",
                "print(x / y)\n",
                "print(np.divide(x, y))"
            ]
        },
        {
            "cell_type": "code",
            "execution_count": 117,
            "metadata": {
                "colab": {
                    "base_uri": "https://localhost:8080/",
                    "height": 52
                },
                "colab_type": "code",
                "id": "g0iZuA6bL9ir",
                "outputId": "29927dda-4167-4aa8-fbda-9008b09e4356"
            },
            "outputs": [
                {
                    "name": "stdout",
                    "output_type": "stream",
                    "text": [
                        "[[1.         1.41421356]\n",
                        " [1.73205081 2.        ]]\n"
                    ]
                }
            ],
            "source": [
                "# Elementwise square root; produces the array\n",
                "# [[ 1.          1.41421356]\n",
                "#  [ 1.73205081  2.        ]]\n",
                "print(np.sqrt(x))"
            ]
        },
        {
            "cell_type": "markdown",
            "metadata": {
                "colab_type": "text",
                "id": "a5d_uujuL9it"
            },
            "source": [
                "Note that unlike MATLAB, `*` is elementwise multiplication, not matrix multiplication. We instead use the dot function to compute inner products of vectors, to multiply a vector by a matrix, and to multiply matrices. dot is available both as a function in the numpy module and as an instance method of array objects:"
            ]
        },
        {
            "cell_type": "code",
            "execution_count": 118,
            "metadata": {
                "colab": {
                    "base_uri": "https://localhost:8080/",
                    "height": 52
                },
                "colab_type": "code",
                "id": "I3FnmoSeL9iu",
                "outputId": "46f4575a-2e5e-4347-a34e-0cc5bd280110"
            },
            "outputs": [
                {
                    "name": "stdout",
                    "output_type": "stream",
                    "text": [
                        "219\n",
                        "219\n"
                    ]
                }
            ],
            "source": [
                "x = np.array([[1, 2], [3, 4]])\n",
                "y = np.array([[5, 6], [7, 8]])\n",
                "\n",
                "v = np.array([9, 10])\n",
                "w = np.array([11, 12])\n",
                "\n",
                "# Inner product of vectors; both produce 219\n",
                "print(v.dot(w))\n",
                "print(np.dot(v, w))"
            ]
        },
        {
            "cell_type": "markdown",
            "metadata": {
                "colab_type": "text",
                "id": "vmxPbrHASVeA"
            },
            "source": [
                "You can also use the `@` operator which is equivalent to numpy's `dot` operator."
            ]
        },
        {
            "cell_type": "code",
            "execution_count": 119,
            "metadata": {
                "colab": {
                    "base_uri": "https://localhost:8080/",
                    "height": 34
                },
                "colab_type": "code",
                "id": "vyrWA-mXSdtt",
                "outputId": "a9aae545-2c93-4649-b220-b097655955f6"
            },
            "outputs": [
                {
                    "name": "stdout",
                    "output_type": "stream",
                    "text": [
                        "219\n"
                    ]
                }
            ],
            "source": [
                "print(v @ w)"
            ]
        },
        {
            "cell_type": "code",
            "execution_count": 120,
            "metadata": {
                "colab": {
                    "base_uri": "https://localhost:8080/",
                    "height": 69
                },
                "colab_type": "code",
                "id": "zvUODeTxL9iw",
                "outputId": "4093fc76-094f-4453-a421-a212b5226968"
            },
            "outputs": [
                {
                    "name": "stdout",
                    "output_type": "stream",
                    "text": [
                        "[29 67]\n",
                        "[29 67]\n",
                        "[29 67]\n"
                    ]
                }
            ],
            "source": [
                "# Matrix / vector product; both produce the rank 1 array [29 67]\n",
                "print(x.dot(v))\n",
                "print(np.dot(x, v))\n",
                "print(x @ v)"
            ]
        },
        {
            "cell_type": "code",
            "execution_count": 121,
            "metadata": {
                "colab": {
                    "base_uri": "https://localhost:8080/",
                    "height": 121
                },
                "colab_type": "code",
                "id": "3V_3NzNEL9iy",
                "outputId": "af2a89f9-af5d-47a6-9ad2-06a84b521b94"
            },
            "outputs": [
                {
                    "name": "stdout",
                    "output_type": "stream",
                    "text": [
                        "[[19 22]\n",
                        " [43 50]]\n",
                        "[[19 22]\n",
                        " [43 50]]\n",
                        "[[19 22]\n",
                        " [43 50]]\n"
                    ]
                }
            ],
            "source": [
                "# Matrix / matrix product; both produce the rank 2 array\n",
                "# [[19 22]\n",
                "#  [43 50]]\n",
                "print(x.dot(y))\n",
                "print(np.dot(x, y))\n",
                "print(x @ y)"
            ]
        },
        {
            "cell_type": "markdown",
            "metadata": {
                "colab_type": "text",
                "id": "FbE-1If_L9i0"
            },
            "source": [
                "Numpy provides many useful functions for performing computations on arrays; one of the most useful is `sum`:"
            ]
        },
        {
            "cell_type": "code",
            "execution_count": 122,
            "metadata": {
                "colab": {
                    "base_uri": "https://localhost:8080/",
                    "height": 69
                },
                "colab_type": "code",
                "id": "DZUdZvPrL9i0",
                "outputId": "99cad470-d692-4b25-91c9-a57aa25f4c6e"
            },
            "outputs": [
                {
                    "name": "stdout",
                    "output_type": "stream",
                    "text": [
                        "10\n",
                        "[4 6]\n",
                        "[3 7]\n"
                    ]
                }
            ],
            "source": [
                "x = np.array([[1, 2], [3, 4]])\n",
                "\n",
                "print(np.sum(x))  # Compute sum of all elements; prints \"10\"\n",
                "print(np.sum(x, axis=0))  # Compute sum of each column; prints \"[4 6]\"\n",
                "print(np.sum(x, axis=1))  # Compute sum of each row; prints \"[3 7]\""
            ]
        },
        {
            "cell_type": "markdown",
            "metadata": {
                "colab_type": "text",
                "id": "ahdVW4iUL9i3"
            },
            "source": [
                "You can find the full list of mathematical functions provided by numpy in the [documentation](http://docs.scipy.org/doc/numpy/reference/routines.math.html).\n",
                "\n",
                "Apart from computing mathematical functions using arrays, we frequently need to reshape or otherwise manipulate data in arrays. The simplest example of this type of operation is transposing a matrix; to transpose a matrix, simply use the T attribute of an array object:"
            ]
        },
        {
            "cell_type": "code",
            "execution_count": 123,
            "metadata": {
                "colab": {
                    "base_uri": "https://localhost:8080/",
                    "height": 104
                },
                "colab_type": "code",
                "id": "63Yl1f3oL9i3",
                "outputId": "c75ac7ba-4351-42f8-a09c-a4e0d966ab50"
            },
            "outputs": [
                {
                    "name": "stdout",
                    "output_type": "stream",
                    "text": [
                        "[[1 2]\n",
                        " [3 4]]\n",
                        "transpose\n",
                        " [[1 3]\n",
                        " [2 4]]\n"
                    ]
                }
            ],
            "source": [
                "print(x)\n",
                "print(\"transpose\\n\", x.T)"
            ]
        },
        {
            "cell_type": "code",
            "execution_count": 124,
            "metadata": {
                "colab": {
                    "base_uri": "https://localhost:8080/",
                    "height": 104
                },
                "colab_type": "code",
                "id": "mkk03eNIL9i4",
                "outputId": "499eec5a-55b7-473a-d4aa-9d023d63885a"
            },
            "outputs": [
                {
                    "name": "stdout",
                    "output_type": "stream",
                    "text": [
                        "[[1 2 3]]\n",
                        "transpose\n",
                        " [[1]\n",
                        " [2]\n",
                        " [3]]\n"
                    ]
                }
            ],
            "source": [
                "v = np.array([[1, 2, 3]])\n",
                "print(v)\n",
                "print(\"transpose\\n\", v.T)"
            ]
        },
        {
            "cell_type": "markdown",
            "metadata": {
                "colab_type": "text",
                "id": "REfLrUTcL9i7"
            },
            "source": [
                "### Broadcasting"
            ]
        },
        {
            "cell_type": "markdown",
            "metadata": {
                "colab_type": "text",
                "id": "EygGAMWqL9i7"
            },
            "source": [
                "Broadcasting is a powerful mechanism that allows numpy to work with arrays of different shapes when performing arithmetic operations. Frequently we have a smaller array and a larger array, and we want to use the smaller array multiple times to perform some operation on the larger array.\n",
                "\n",
                "For example, suppose that we want to add a constant vector to each row of a matrix. We could do it like this:"
            ]
        },
        {
            "cell_type": "code",
            "execution_count": 125,
            "metadata": {
                "colab": {
                    "base_uri": "https://localhost:8080/",
                    "height": 86
                },
                "colab_type": "code",
                "id": "WEEvkV1ZL9i7",
                "outputId": "3896d03c-3ece-4aa8-f675-aef3a220574d"
            },
            "outputs": [
                {
                    "name": "stdout",
                    "output_type": "stream",
                    "text": [
                        "[[ 2  2  4]\n",
                        " [ 5  5  7]\n",
                        " [ 8  8 10]\n",
                        " [11 11 13]]\n"
                    ]
                }
            ],
            "source": [
                "# We will add the vector v to each row of the matrix x,\n",
                "# storing the result in the matrix y\n",
                "x = np.array([[1, 2, 3], [4, 5, 6], [7, 8, 9], [10, 11, 12]])\n",
                "v = np.array([1, 0, 1])\n",
                "y = np.empty_like(x)  # Create an empty matrix with the same shape as x\n",
                "\n",
                "# Add the vector v to each row of the matrix x with an explicit loop\n",
                "for i in range(4):\n",
                "    y[i, :] = x[i, :] + v\n",
                "\n",
                "print(y)"
            ]
        },
        {
            "cell_type": "markdown",
            "metadata": {
                "colab_type": "text",
                "id": "2OlXXupEL9i-"
            },
            "source": [
                "This works; however when the matrix `x` is very large, computing an explicit loop in Python could be slow. Note that adding the vector v to each row of the matrix `x` is equivalent to forming a matrix `vv` by stacking multiple copies of `v` vertically, then performing elementwise summation of `x` and `vv`. We could implement this approach like this:"
            ]
        },
        {
            "cell_type": "code",
            "execution_count": 126,
            "metadata": {
                "colab": {
                    "base_uri": "https://localhost:8080/",
                    "height": 86
                },
                "colab_type": "code",
                "id": "vS7UwAQQL9i-",
                "outputId": "8621e502-c25d-4a18-c973-886dbfd1df36"
            },
            "outputs": [
                {
                    "name": "stdout",
                    "output_type": "stream",
                    "text": [
                        "[[1 0 1]\n",
                        " [1 0 1]\n",
                        " [1 0 1]\n",
                        " [1 0 1]]\n"
                    ]
                }
            ],
            "source": [
                "vv = np.tile(v, (4, 1))  # Stack 4 copies of v on top of each other\n",
                "print(vv)  # Prints \"[[1 0 1]\n",
                "#          [1 0 1]\n",
                "#          [1 0 1]\n",
                "#          [1 0 1]]\"\n"
            ]
        },
        {
            "cell_type": "code",
            "execution_count": 127,
            "metadata": {
                "colab": {
                    "base_uri": "https://localhost:8080/",
                    "height": 86
                },
                "colab_type": "code",
                "id": "N0hJphSIL9jA",
                "outputId": "def6a757-170c-43bf-8728-732dfb133273"
            },
            "outputs": [
                {
                    "name": "stdout",
                    "output_type": "stream",
                    "text": [
                        "[[ 2  2  4]\n",
                        " [ 5  5  7]\n",
                        " [ 8  8 10]\n",
                        " [11 11 13]]\n"
                    ]
                }
            ],
            "source": [
                "y = x + vv  # Add x and vv elementwise\n",
                "print(y)"
            ]
        },
        {
            "cell_type": "markdown",
            "metadata": {
                "colab_type": "text",
                "id": "zHos6RJnL9jB"
            },
            "source": [
                "Numpy broadcasting allows us to perform this computation without actually creating multiple copies of v. Consider this version, using broadcasting:"
            ]
        },
        {
            "cell_type": "code",
            "execution_count": 128,
            "metadata": {
                "colab": {
                    "base_uri": "https://localhost:8080/",
                    "height": 86
                },
                "colab_type": "code",
                "id": "vnYFb-gYL9jC",
                "outputId": "df3bea8a-ad72-4a83-90bb-306b55c6fb93"
            },
            "outputs": [
                {
                    "name": "stdout",
                    "output_type": "stream",
                    "text": [
                        "[[ 2  2  4]\n",
                        " [ 5  5  7]\n",
                        " [ 8  8 10]\n",
                        " [11 11 13]]\n"
                    ]
                }
            ],
            "source": [
                "import numpy as np\n",
                "\n",
                "# We will add the vector v to each row of the matrix x,\n",
                "# storing the result in the matrix y\n",
                "x = np.array([[1, 2, 3], [4, 5, 6], [7, 8, 9], [10, 11, 12]])\n",
                "v = np.array([1, 0, 1])\n",
                "y = x + v  # Add v to each row of x using broadcasting\n",
                "print(y)"
            ]
        },
        {
            "cell_type": "markdown",
            "metadata": {
                "colab_type": "text",
                "id": "08YyIURKL9jH"
            },
            "source": [
                "The line `y = x + v` works even though `x` has shape `(4, 3)` and `v` has shape `(3,)` due to broadcasting; this line works as if v actually had shape `(4, 3)`, where each row was a copy of `v`, and the sum was performed elementwise.\n",
                "\n",
                "Broadcasting two arrays together follows these rules:\n",
                "\n",
                "1. If the arrays do not have the same rank, prepend the shape of the lower rank array with 1s until both shapes have the same length.\n",
                "2. The two arrays are said to be compatible in a dimension if they have the same size in the dimension, or if one of the arrays has size 1 in that dimension.\n",
                "3. The arrays can be broadcast together if they are compatible in all dimensions.\n",
                "4. After broadcasting, each array behaves as if it had shape equal to the elementwise maximum of shapes of the two input arrays.\n",
                "5. In any dimension where one array had size 1 and the other array had size greater than 1, the first array behaves as if it were copied along that dimension\n",
                "\n",
                "If this explanation does not make sense, try reading the explanation from the [documentation](http://docs.scipy.org/doc/numpy/user/basics.broadcasting.html) or this [explanation](http://wiki.scipy.org/EricsBroadcastingDoc).\n",
                "\n",
                "Functions that support broadcasting are known as universal functions. You can find the list of all universal functions in the [documentation](http://docs.scipy.org/doc/numpy/reference/ufuncs.html#available-ufuncs).\n",
                "\n",
                "Here are some applications of broadcasting:"
            ]
        },
        {
            "cell_type": "code",
            "execution_count": 129,
            "metadata": {},
            "outputs": [
                {
                    "data": {
                        "text/plain": [
                            "array([[ 0,  0,  0,  0,  0],\n",
                            "       [ 0,  1,  2,  3,  4],\n",
                            "       [ 0,  2,  4,  6,  8],\n",
                            "       [ 0,  3,  6,  9, 12],\n",
                            "       [ 0,  4,  8, 12, 16]])"
                        ]
                    },
                    "execution_count": 129,
                    "metadata": {},
                    "output_type": "execute_result"
                }
            ],
            "source": [
                "import numpy as np\n",
                "\n",
                "a = np.arange(5).reshape(5, 1)\n",
                "b = np.arange(5).reshape(1, 5)\n",
                "\n",
                "a @ b"
            ]
        },
        {
            "cell_type": "code",
            "execution_count": 130,
            "metadata": {
                "colab": {
                    "base_uri": "https://localhost:8080/",
                    "height": 69
                },
                "colab_type": "code",
                "id": "EmQnwoM9L9jH",
                "outputId": "f59e181e-e2d4-416c-d094-c4d003ce8509"
            },
            "outputs": [
                {
                    "name": "stdout",
                    "output_type": "stream",
                    "text": [
                        "[[ 4  5]\n",
                        " [ 8 10]\n",
                        " [12 15]]\n"
                    ]
                }
            ],
            "source": [
                "# Compute outer product of vectors\n",
                "v = np.array([1, 2, 3])  # v has shape (3,)\n",
                "w = np.array([4, 5])  # w has shape (2,)\n",
                "# To compute an outer product, we first reshape v to be a column\n",
                "# vector of shape (3, 1); we can then broadcast it against w to yield\n",
                "# an output of shape (3, 2), which is the outer product of v and w:\n",
                "\n",
                "print(np.reshape(v, (3, 1)) * w)"
            ]
        },
        {
            "cell_type": "code",
            "execution_count": 131,
            "metadata": {
                "colab": {
                    "base_uri": "https://localhost:8080/",
                    "height": 52
                },
                "colab_type": "code",
                "id": "PgotmpcnL9jK",
                "outputId": "567763d3-073a-4e3c-9ebe-6c7d2b6d3446"
            },
            "outputs": [
                {
                    "name": "stdout",
                    "output_type": "stream",
                    "text": [
                        "[[2 4 6]\n",
                        " [5 7 9]]\n"
                    ]
                }
            ],
            "source": [
                "# Add a vector to each row of a matrix\n",
                "x = np.array([[1, 2, 3], [4, 5, 6]])\n",
                "# x has shape (2, 3) and v has shape (3,) so they broadcast to (2, 3),\n",
                "# giving the following matrix:\n",
                "\n",
                "print(x + v)\n"
            ]
        },
        {
            "cell_type": "code",
            "execution_count": 136,
            "metadata": {
                "colab": {
                    "base_uri": "https://localhost:8080/",
                    "height": 52
                },
                "colab_type": "code",
                "id": "T5hKS1QaL9jK",
                "outputId": "5f14ac5c-7a21-4216-e91d-cfce5720a804"
            },
            "outputs": [
                {
                    "data": {
                        "text/plain": [
                            "array([[1, 2, 3],\n",
                            "       [4, 5, 6]])"
                        ]
                    },
                    "metadata": {},
                    "output_type": "display_data"
                },
                {
                    "data": {
                        "text/plain": [
                            "array([4, 5])"
                        ]
                    },
                    "metadata": {},
                    "output_type": "display_data"
                },
                {
                    "data": {
                        "text/plain": [
                            "array([[ 5,  6,  7],\n",
                            "       [ 9, 10, 11]])"
                        ]
                    },
                    "execution_count": 136,
                    "metadata": {},
                    "output_type": "execute_result"
                }
            ],
            "source": [
                "# Add a vector to each column of a matrix\n",
                "# x has shape (2, 3) and w has shape (2,).\n",
                "# If we transpose x then it has shape (3, 2) and can be broadcast\n",
                "# against w to yield a result of shape (3, 2); transposing this result\n",
                "# yields the final result of shape (2, 3) which is the matrix x with\n",
                "# the vector w added to each column. Gives the following matrix:\n",
                "display(x)\n",
                "display(w)\n",
                "\n",
                "print((x.T + w).T)"
            ]
        },
        {
            "cell_type": "code",
            "execution_count": 137,
            "metadata": {
                "colab": {
                    "base_uri": "https://localhost:8080/",
                    "height": 52
                },
                "colab_type": "code",
                "id": "JDUrZUl6L9jN",
                "outputId": "53e99a89-c599-406d-9fe3-7aa35ae5fb90"
            },
            "outputs": [
                {
                    "name": "stdout",
                    "output_type": "stream",
                    "text": [
                        "[[ 5  6  7]\n",
                        " [ 9 10 11]]\n"
                    ]
                }
            ],
            "source": [
                "# Another solution is to reshape w to be a row vector of shape (2, 1);\n",
                "# we can then broadcast it directly against x to produce the same\n",
                "# output.\n",
                "print(x + np.reshape(w, (2, 1)))"
            ]
        },
        {
            "cell_type": "code",
            "execution_count": 138,
            "metadata": {
                "colab": {
                    "base_uri": "https://localhost:8080/",
                    "height": 52
                },
                "colab_type": "code",
                "id": "VzrEo4KGL9jP",
                "outputId": "53c9d4cc-32d5-46b0-d090-53c7db57fb32"
            },
            "outputs": [
                {
                    "name": "stdout",
                    "output_type": "stream",
                    "text": [
                        "[[ 2  4  6]\n",
                        " [ 8 10 12]]\n"
                    ]
                }
            ],
            "source": [
                "# Multiply a matrix by a constant:\n",
                "# x has shape (2, 3). Numpy treats scalars as arrays of shape ();\n",
                "# these can be broadcast together to shape (2, 3), producing the\n",
                "# following array:\n",
                "print(x * 2)"
            ]
        },
        {
            "cell_type": "markdown",
            "metadata": {
                "colab_type": "text",
                "id": "89e2FXxFL9jQ"
            },
            "source": [
                "Broadcasting typically makes your code more concise and faster, so you should strive to use it where possible."
            ]
        },
        {
            "cell_type": "markdown",
            "metadata": {
                "colab_type": "text",
                "id": "iF3ZtwVNL9jQ"
            },
            "source": [
                "This brief overview has touched on many of the important things that you need to know about numpy, but is far from complete. Check out the [numpy reference](http://docs.scipy.org/doc/numpy/reference/) to find out much more about numpy."
            ]
        },
        {
            "cell_type": "markdown",
            "metadata": {
                "colab_type": "text",
                "id": "tEINf4bEL9jR"
            },
            "source": [
                "## Matplotlib"
            ]
        },
        {
            "cell_type": "markdown",
            "metadata": {
                "colab_type": "text",
                "id": "0hgVWLaXL9jR"
            },
            "source": [
                "Matplotlib is a plotting library. In this section give a brief introduction to the `matplotlib.pyplot` module, which provides a plotting system similar to that of MATLAB."
            ]
        },
        {
            "cell_type": "code",
            "execution_count": 139,
            "metadata": {
                "colab": {},
                "colab_type": "code",
                "id": "cmh_7c6KL9jR"
            },
            "outputs": [],
            "source": [
                "import matplotlib.pyplot as plt"
            ]
        },
        {
            "cell_type": "markdown",
            "metadata": {
                "colab_type": "text",
                "id": "jOsaA5hGL9jS"
            },
            "source": [
                "By running this special iPython command, we will be displaying plots inline:"
            ]
        },
        {
            "cell_type": "code",
            "execution_count": 140,
            "metadata": {
                "colab": {},
                "colab_type": "code",
                "id": "ijpsmwGnL9jT"
            },
            "outputs": [],
            "source": [
                "%matplotlib inline"
            ]
        },
        {
            "cell_type": "markdown",
            "metadata": {
                "colab_type": "text",
                "id": "U5Z_oMoLL9jV"
            },
            "source": [
                "### Plotting"
            ]
        },
        {
            "cell_type": "markdown",
            "metadata": {
                "colab_type": "text",
                "id": "6QyFJ7dhL9jV"
            },
            "source": [
                "The most important function in `matplotlib` is plot, which allows you to plot 2D data. Here is a simple example:"
            ]
        },
        {
            "cell_type": "code",
            "execution_count": 145,
            "metadata": {
                "colab": {
                    "base_uri": "https://localhost:8080/",
                    "height": 282
                },
                "colab_type": "code",
                "id": "pua52BGeL9jW",
                "outputId": "9ac3ee0f-7ff7-463b-b901-c33d21a2b10c"
            },
            "outputs": [
                {
                    "data": {
                        "text/plain": [
                            "[<matplotlib.lines.Line2D at 0x7fc8ded7d370>]"
                        ]
                    },
                    "execution_count": 145,
                    "metadata": {},
                    "output_type": "execute_result"
                },
                {
                    "data": {
                        "image/png": "[encoded data removed]",
                        "text/plain": [
                            "<Figure size 640x480 with 1 Axes>"
                        ]
                    },
                    "metadata": {},
                    "output_type": "display_data"
                }
            ],
            "source": [
                "# Compute the x and y coordinates for points on a sine curve\n",
                "x = np.arange(0, 3 * np.pi, 0.1)\n",
                "y = np.sin(x)\n",
                "\n",
                "# Plot the points using matplotlib\n",
                "plt.plot(x, y)"
            ]
        },
        {
            "cell_type": "markdown",
            "metadata": {
                "colab_type": "text",
                "id": "9W2VAcLiL9jX"
            },
            "source": [
                "With just a little bit of extra work we can easily plot multiple lines at once, and add a title, legend, and axis labels:"
            ]
        },
        {
            "cell_type": "code",
            "execution_count": 146,
            "metadata": {
                "colab": {
                    "base_uri": "https://localhost:8080/",
                    "height": 312
                },
                "colab_type": "code",
                "id": "TfCQHJ5AL9jY",
                "outputId": "fdb9c033-0f06-4041-a69d-a0f3a54c7206"
            },
            "outputs": [
                {
                    "data": {
                        "text/plain": [
                            "<matplotlib.legend.Legend at 0x7fc8ded2af10>"
                        ]
                    },
                    "execution_count": 146,
                    "metadata": {},
                    "output_type": "execute_result"
                },
                {
                    "data": {
                        "image/png": "[encoded data removed]",
                        "text/plain": [
                            "<Figure size 640x480 with 1 Axes>"
                        ]
                    },
                    "metadata": {},
                    "output_type": "display_data"
                }
            ],
            "source": [
                "y_sin = np.sin(x)\n",
                "y_cos = np.cos(x)\n",
                "\n",
                "# Plot the points using matplotlib\n",
                "plt.plot(x, y_sin)\n",
                "plt.plot(x, y_cos)\n",
                "plt.xlabel('x axis label')\n",
                "plt.ylabel('y axis label')\n",
                "plt.title('Sine and Cosine')\n",
                "plt.legend(['Sine', 'Cosine'])"
            ]
        },
        {
            "cell_type": "markdown",
            "metadata": {
                "colab_type": "text",
                "id": "R5IeAY03L9ja"
            },
            "source": [
                "### Subplots "
            ]
        },
        {
            "cell_type": "markdown",
            "metadata": {
                "colab_type": "text",
                "id": "CfUzwJg0L9ja"
            },
            "source": [
                "You can plot different things in the same figure using the subplot function. Here is an example:"
            ]
        },
        {
            "cell_type": "code",
            "execution_count": null,
            "metadata": {
                "colab": {
                    "base_uri": "https://localhost:8080/",
                    "height": 281
                },
                "colab_type": "code",
                "id": "dM23yGH9L9ja",
                "outputId": "14dfa5ea-f453-4da5-a2ee-fea0de8f72d9"
            },
            "outputs": [
                {
                    "data": {
                        "image/png": "[encoded data removed]",
                        "text/plain": [
                            "<Figure size 432x288 with 2 Axes>"
                        ]
                    },
                    "metadata": {
                        "needs_background": "light"
                    },
                    "output_type": "display_data"
                }
            ],
            "source": [
                "# Compute the x and y coordinates for points on sine and cosine curves\n",
                "x = np.arange(0, 3 * np.pi, 0.1)\n",
                "y_sin = np.sin(x)\n",
                "y_cos = np.cos(x)\n",
                "\n",
                "# Set up a subplot grid that has height 2 and width 1,\n",
                "# and set the first such subplot as active.\n",
                "plt.subplot(2, 1, 1)\n",
                "\n",
                "# Make the first plot\n",
                "plt.plot(x, y_sin)\n",
                "plt.title('Sine')\n",
                "\n",
                "# Set the second subplot as active, and make the second plot.\n",
                "plt.subplot(2, 1, 2)\n",
                "plt.plot(x, y_cos)\n",
                "plt.title('Cosine')\n",
                "\n",
                "# Show the figure.\n",
                "plt.show()"
            ]
        },
        {
            "cell_type": "markdown",
            "metadata": {
                "colab_type": "text",
                "id": "gLtsST5SL9jc"
            },
            "source": [
                "You can read much more about the `subplot` function in the [documentation](http://matplotlib.org/api/pyplot_api.html#matplotlib.pyplot.subplot)."
            ]
        }
    ],
    "metadata": {
        "colab": {
            "collapsed_sections": [],
            "name": "colab-tutorial.ipynb",
            "provenance": []
        },
        "kernelspec": {
            "display_name": "Python 3.9.13 ('tf')",
            "language": "python",
            "name": "python3"
        },
        "language_info": {
            "codemirror_mode": {
                "name": "ipython",
                "version": 3
            },
            "file_extension": ".py",
            "mimetype": "text/x-python",
            "name": "python",
            "nbconvert_exporter": "python",
            "pygments_lexer": "ipython3",
            "version": "3.9.13"
        },
        "vscode": {
            "interpreter": {
                "hash": "665d0d8289d3fc5390064a220536393676f627629b1afb878b352099f2b40d1b"
            }
        }
    },
    "nbformat": 4,
    "nbformat_minor": 1
}
